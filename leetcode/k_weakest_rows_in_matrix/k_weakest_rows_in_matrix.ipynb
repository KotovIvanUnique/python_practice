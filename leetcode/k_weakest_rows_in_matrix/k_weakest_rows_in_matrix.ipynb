{
 "cells": [
  {
   "cell_type": "code",
   "execution_count": 16,
   "metadata": {},
   "outputs": [],
   "source": [
    "from k_weakest_rows_in_matrix import Solution"
   ]
  },
  {
   "cell_type": "code",
   "execution_count": 17,
   "metadata": {},
   "outputs": [],
   "source": [
    "s = Solution()"
   ]
  },
  {
   "attachments": {},
   "cell_type": "markdown",
   "metadata": {},
   "source": [
    "[[1,1,0,0,0],<br>\n",
    " [1,1,1,1,0],<br>\n",
    " [1,0,0,0,0],<br>\n",
    " [1,1,0,0,0],<br>\n",
    " [1,1,1,1,1]]"
   ]
  },
  {
   "cell_type": "code",
   "execution_count": 18,
   "metadata": {},
   "outputs": [
    {
     "data": {
      "text/plain": [
       "[2, 0, 3]"
      ]
     },
     "execution_count": 18,
     "metadata": {},
     "output_type": "execute_result"
    }
   ],
   "source": [
    "s.kWeakestRows([[1,1,0,0,0],\n",
    "                [1,1,1,1,0],\n",
    "                [1,0,0,0,0],\n",
    "                [1,1,0,0,0],\n",
    "                [1,1,1,1,1]],\n",
    "                3)"
   ]
  },
  {
   "attachments": {},
   "cell_type": "markdown",
   "metadata": {},
   "source": [
    "[[1,0,0,0],<br>\n",
    " [1,1,1,1],<br>\n",
    " [1,0,0,0],<br>\n",
    " [1,0,0,0]]"
   ]
  },
  {
   "cell_type": "code",
   "execution_count": 19,
   "metadata": {},
   "outputs": [
    {
     "data": {
      "text/plain": [
       "[0, 2]"
      ]
     },
     "execution_count": 19,
     "metadata": {},
     "output_type": "execute_result"
    }
   ],
   "source": [
    "s.kWeakestRows([[1,0,0,0],\n",
    "                [1,1,1,1],\n",
    "                [1,0,0,0],\n",
    "                [1,0,0,0]],\n",
    "                2)"
   ]
  }
 ],
 "metadata": {
  "kernelspec": {
   "display_name": "Python 3",
   "language": "python",
   "name": "python3"
  },
  "language_info": {
   "codemirror_mode": {
    "name": "ipython",
    "version": 3
   },
   "file_extension": ".py",
   "mimetype": "text/x-python",
   "name": "python",
   "nbconvert_exporter": "python",
   "pygments_lexer": "ipython3",
   "version": "3.9.13"
  },
  "orig_nbformat": 4,
  "vscode": {
   "interpreter": {
    "hash": "bedf3b64920aa7e1c49377a911937112f9a54cf7a67efed16c9a0f6b95a532e2"
   }
  }
 },
 "nbformat": 4,
 "nbformat_minor": 2
}
