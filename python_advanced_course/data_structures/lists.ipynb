{
 "cells": [
  {
   "attachments": {},
   "cell_type": "markdown",
   "metadata": {},
   "source": [
    "# Lists"
   ]
  },
  {
   "attachments": {},
   "cell_type": "markdown",
   "metadata": {},
   "source": [
    "Data structures are understood as a way of storing and organizing data for their further efficient use."
   ]
  },
  {
   "attachments": {},
   "cell_type": "markdown",
   "metadata": {},
   "source": [
    "List is a data structure that stores a mutable sequence of arbitrary elements. List elements can be any objects, such as numbers, strings, dictionaries, class objects, classes themselves, and other lists."
   ]
  },
  {
   "attachments": {},
   "cell_type": "markdown",
   "metadata": {},
   "source": [
    "Once the list has been created, the following operations can be performed on it:"
   ]
  },
  {
   "cell_type": "code",
   "execution_count": 1,
   "metadata": {},
   "outputs": [
    {
     "data": {
      "text/plain": [
       "['n', 'e', 'w', ' ', 'l', 'i', 's', 't']"
      ]
     },
     "execution_count": 1,
     "metadata": {},
     "output_type": "execute_result"
    }
   ],
   "source": [
    "list('new list') # creating a new list from a string"
   ]
  },
  {
   "cell_type": "code",
   "execution_count": 2,
   "metadata": {},
   "outputs": [],
   "source": [
    "s = [] # creating an empty list"
   ]
  },
  {
   "cell_type": "code",
   "execution_count": 6,
   "metadata": {},
   "outputs": [
    {
     "data": {
      "text/plain": [
       "[]"
      ]
     },
     "execution_count": 6,
     "metadata": {},
     "output_type": "execute_result"
    }
   ],
   "source": [
    "s"
   ]
  },
  {
   "cell_type": "code",
   "execution_count": 3,
   "metadata": {},
   "outputs": [],
   "source": [
    "l = [1,23, [], {}, \"111\"] # a list filled with different content"
   ]
  },
  {
   "cell_type": "code",
   "execution_count": 5,
   "metadata": {},
   "outputs": [
    {
     "data": {
      "text/plain": [
       "[1, 23, [], {}, '111']"
      ]
     },
     "execution_count": 5,
     "metadata": {},
     "output_type": "execute_result"
    }
   ],
   "source": [
    "l"
   ]
  },
  {
   "cell_type": "code",
   "execution_count": 7,
   "metadata": {},
   "outputs": [],
   "source": [
    "s.append(1) # adding to the end of the list"
   ]
  },
  {
   "cell_type": "code",
   "execution_count": 8,
   "metadata": {},
   "outputs": [
    {
     "data": {
      "text/plain": [
       "[1]"
      ]
     },
     "execution_count": 8,
     "metadata": {},
     "output_type": "execute_result"
    }
   ],
   "source": [
    "s"
   ]
  },
  {
   "cell_type": "code",
   "execution_count": 9,
   "metadata": {},
   "outputs": [
    {
     "data": {
      "text/plain": [
       "23"
      ]
     },
     "execution_count": 9,
     "metadata": {},
     "output_type": "execute_result"
    }
   ],
   "source": [
    "l[1] # take an element from the list L at index 1"
   ]
  },
  {
   "cell_type": "code",
   "execution_count": 10,
   "metadata": {},
   "outputs": [
    {
     "data": {
      "text/plain": [
       "5"
      ]
     },
     "execution_count": 10,
     "metadata": {},
     "output_type": "execute_result"
    }
   ],
   "source": [
    "len(l) # list length"
   ]
  },
  {
   "cell_type": "code",
   "execution_count": 11,
   "metadata": {},
   "outputs": [],
   "source": [
    "l[4] = \"omg\""
   ]
  },
  {
   "cell_type": "code",
   "execution_count": 13,
   "metadata": {},
   "outputs": [
    {
     "data": {
      "text/plain": [
       "[1, 23, [], {}, 'omg']"
      ]
     },
     "execution_count": 13,
     "metadata": {},
     "output_type": "execute_result"
    }
   ],
   "source": [
    "l"
   ]
  },
  {
   "cell_type": "code",
   "execution_count": 14,
   "metadata": {},
   "outputs": [
    {
     "data": {
      "text/plain": [
       "[]"
      ]
     },
     "execution_count": 14,
     "metadata": {},
     "output_type": "execute_result"
    }
   ],
   "source": [
    "l.pop(2) # remove an element from the list by index and return it"
   ]
  },
  {
   "cell_type": "code",
   "execution_count": 15,
   "metadata": {},
   "outputs": [
    {
     "data": {
      "text/plain": [
       "[1, 23, {}, 'omg']"
      ]
     },
     "execution_count": 15,
     "metadata": {},
     "output_type": "execute_result"
    }
   ],
   "source": [
    "l"
   ]
  },
  {
   "attachments": {},
   "cell_type": "markdown",
   "metadata": {},
   "source": [
    "List Comprehensions is Python's syntactic sugar that makes it easy to generate new lists:"
   ]
  },
  {
   "cell_type": "code",
   "execution_count": 16,
   "metadata": {},
   "outputs": [],
   "source": [
    "squares = [x ** 2 for x in range(10)]\n",
    "# [0, 1, 4, 9, 16, 25, 36, 49, 64, 81]"
   ]
  },
  {
   "attachments": {},
   "cell_type": "markdown",
   "metadata": {},
   "source": [
    "The range(start, stop, step) function is a standard Python function that allows you to generate a sequence of numbers. Range takes three parameters: start, stop, step, where start is the start of the sequence, stop is the end of the sequence, and step is the step. By default start = 0, step = 1.\n",
    "\n",
    "As with regular for loops, conditions can be used inside list comprehensions using if - elif - else conditional statements:"
   ]
  },
  {
   "cell_type": "code",
   "execution_count": 17,
   "metadata": {},
   "outputs": [],
   "source": [
    "odds = [x for x in range(10) if x % 2 != 0]\n",
    "# [1, 3, 5, 7, 9]"
   ]
  },
  {
   "cell_type": "code",
   "execution_count": 18,
   "metadata": {},
   "outputs": [
    {
     "data": {
      "text/plain": [
       "[0, 1, 4, 27, 16, 125, 36, 343, 64, 729]"
      ]
     },
     "execution_count": 18,
     "metadata": {},
     "output_type": "execute_result"
    }
   ],
   "source": [
    "[x ** 2 if x % 2 == 0 else x ** 3 for x in range(10)]\n",
    "# [0, 1, 4, 27, 16, 125, 36, 343, 64, 729]"
   ]
  },
  {
   "attachments": {},
   "cell_type": "markdown",
   "metadata": {},
   "source": [
    "You can also use multiple for loops or if-elif-else statements. This comes in handy when you need to perform operations on multiple lists:"
   ]
  },
  {
   "cell_type": "code",
   "execution_count": 19,
   "metadata": {},
   "outputs": [],
   "source": [
    "second = [(x, y) for x in range(1, 5) for y in range(5, 1, -1) if x != y]"
   ]
  },
  {
   "cell_type": "code",
   "execution_count": 20,
   "metadata": {},
   "outputs": [
    {
     "data": {
      "text/plain": [
       "[(1, 5),\n",
       " (1, 4),\n",
       " (1, 3),\n",
       " (1, 2),\n",
       " (2, 5),\n",
       " (2, 4),\n",
       " (2, 3),\n",
       " (3, 5),\n",
       " (3, 4),\n",
       " (3, 2),\n",
       " (4, 5),\n",
       " (4, 3),\n",
       " (4, 2)]"
      ]
     },
     "execution_count": 20,
     "metadata": {},
     "output_type": "execute_result"
    }
   ],
   "source": [
    "second"
   ]
  },
  {
   "attachments": {},
   "cell_type": "markdown",
   "metadata": {},
   "source": [
    "### How lists are arranged inside Python"
   ]
  },
  {
   "attachments": {},
   "cell_type": "markdown",
   "metadata": {},
   "source": [
    "Inside Python, lists are implemented as dynamic arrays, so the developer doesn't have to think about allocating extra space when adding and removing elements.\n",
    "\n",
    "CPython is the most widely used, de facto reference implementation of the Python programming language. CPython is a bytecode interpreter written in C. In addition to CPython, there are other implementations of Python: Jython, IronPython, PyPy, and Stackless Python.\n",
    "\n",
    "The list object is represented as the following C structure:"
   ]
  },
  {
   "cell_type": "code",
   "execution_count": null,
   "metadata": {},
   "outputs": [],
   "source": [
    "typedef struct {\n",
    "    PyObject_VAR_HEAD\n",
    "    PyObject **ob_item;\n",
    "    Py_ssize_t allocated;\n",
    "} PyListObject;"
   ]
  },
  {
   "attachments": {},
   "cell_type": "markdown",
   "metadata": {},
   "source": [
    "Where:\n",
    "\n",
    "PyObject_VAR_HEAD is a C macro that is used internally by CPython for structures with a variable number of elements;\n",
    "\n",
    "PyObject **ob_item - a list of pointers to the elements of the list for quick access by index;\n",
    "\n",
    "Py_ssize_t allocated is a constant that points to the allocated memory boundary. When a new element is added and the amount of memory is exceeded, the process of allocating new memory for new elements will be performed."
   ]
  },
  {
   "attachments": {},
   "cell_type": "markdown",
   "metadata": {},
   "source": [
    "### Complexity of basic operations in big (O) notation"
   ]
  },
  {
   "attachments": {},
   "cell_type": "markdown",
   "metadata": {},
   "source": [
    "Big (O) is a mathematical notation that describes the limiting behavior of a function whose argument tends to a certain value or infinity. In other words, this notation describes the complexity of the code using algebraic terms.\n",
    "\n",
    "The main time / memory costs are for adding elements (append), because there is an allocation of additional space in memory, as well as when deleting / inserting elements at the beginning.\n",
    "\n",
    "Next, n is the number of elements in the list; k is the value of the parameter, or the number of elements in the parameter."
   ]
  },
  {
   "cell_type": "code",
   "execution_count": null,
   "metadata": {},
   "outputs": [],
   "source": [
    "Operation        Medium difficulty\n",
    "Index lookup     O(1)\n",
    "Assignment       O(1)\n",
    "len              O(1)\n",
    "append           O(1)\n",
    "pop              O(1)\n",
    "clear            O(1)\n",
    "slice            O(k)\n",
    "extend           O(k)\n",
    "creation         O(k)\n",
    "Checks ==, !=    O(n)\n",
    "insert           O(n)\n",
    "del              O(n)\n",
    "remove           O(n)\n",
    "Occurrence Check O(n)\n",
    "copy             O(n)\n",
    "min, max         O(n)\n",
    "reverse          O(n)\n",
    "Pass             O(n)\n",
    "Slice assignment O(k+n)\n",
    "sort             O(n log n)\n",
    "Multiplication   O(k×n)\n"
   ]
  },
  {
   "attachments": {},
   "cell_type": "markdown",
   "metadata": {},
   "source": [
    "The data can be interpreted as follows: O(1) complexity means that constant time will be spent on this operation. For operations like O(n) or O(k), the execution time will grow linearly, depending on the number of elements or the value of the function parameter, respectively. The more complex the operation, the faster the time to complete it will increase."
   ]
  },
  {
   "attachments": {},
   "cell_type": "markdown",
   "metadata": {},
   "source": [
    "#### Application in practice"
   ]
  },
  {
   "attachments": {},
   "cell_type": "markdown",
   "metadata": {},
   "source": [
    "In practice, lists are used when it is necessary to work with a set of values that are logically related. For example, objects in a parking lot - these can be cars, motorcycles, etc. It will be convenient to combine these elements into a list and perform the necessary actions on them, for example, check whether a parking space is occupied or not. It is natural to assume that the number of parking spaces may change over time, it may be empty in the morning and full in the evening. Such a data structure as a list will easily help to implement adding / deleting / accessing by index to describe objects in the parking lot."
   ]
  }
 ],
 "metadata": {
  "kernelspec": {
   "display_name": "Python 3",
   "language": "python",
   "name": "python3"
  },
  "language_info": {
   "codemirror_mode": {
    "name": "ipython",
    "version": 3
   },
   "file_extension": ".py",
   "mimetype": "text/x-python",
   "name": "python",
   "nbconvert_exporter": "python",
   "pygments_lexer": "ipython3",
   "version": "3.9.13"
  },
  "orig_nbformat": 4,
  "vscode": {
   "interpreter": {
    "hash": "bedf3b64920aa7e1c49377a911937112f9a54cf7a67efed16c9a0f6b95a532e2"
   }
  }
 },
 "nbformat": 4,
 "nbformat_minor": 2
}
