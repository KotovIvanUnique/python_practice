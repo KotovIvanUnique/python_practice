{
 "cells": [
  {
   "attachments": {},
   "cell_type": "markdown",
   "metadata": {},
   "source": [
    "# Creating your own whl"
   ]
  },
  {
   "attachments": {},
   "cell_type": "markdown",
   "metadata": {},
   "source": [
    "Many home (and not only) developments lead to the fact that the created project wants to be shared with someone. To do this, Python came up with the whl format, accompanying utilities that allow you to package the project for further distribution.\n",
    "\n",
    "To do this, we will create a small folder hierarchy:"
   ]
  },
  {
   "cell_type": "code",
   "execution_count": null,
   "metadata": {},
   "outputs": [],
   "source": [
    "python_course_package/\n",
    "   example_pkg/ # package to be imported via import\n",
    "     __init__.py"
   ]
  },
  {
   "attachments": {},
   "cell_type": "markdown",
   "metadata": {},
   "source": [
    "Inside \\_\\_init\\_\\_.py we write:"
   ]
  },
  {
   "cell_type": "code",
   "execution_count": null,
   "metadata": {},
   "outputs": [],
   "source": [
    "print(\"test package\")"
   ]
  },
  {
   "attachments": {},
   "cell_type": "markdown",
   "metadata": {},
   "source": [
    "Inside the example_pkg folder, create a setup.py file with the following content:"
   ]
  },
  {
   "cell_type": "code",
   "execution_count": null,
   "metadata": {},
   "outputs": [],
   "source": [
    "import setuptools\n",
    "setuptools.setup(\n",
    "    name=\"python_course_package\",\n",
    "    version=\"0.0.1\",\n",
    "    author=\"KotovIvanUnique\",\n",
    "    long_description=\"test package\",\n",
    "    long_description_content_type=\"text/markdown\",\n",
    "    packages=setuptools.find_packages(),\n",
    "    classifiers=[\n",
    "        \"Programming Language :: Python :: 3\",\n",
    "        \"License :: OSI Approved :: MIT License\",\n",
    "        \"Operating System :: OS Independent\",\n",
    "    ],\n",
    "    python_requires='>=3.6',\n",
    ")"
   ]
  },
  {
   "attachments": {},
   "cell_type": "markdown",
   "metadata": {},
   "source": [
    "setup.py is a build script using the setuptools library."
   ]
  },
  {
   "attachments": {},
   "cell_type": "markdown",
   "metadata": {},
   "source": [
    "After creating setup.py, make sure we have the latest whl packaging libraries with the command:"
   ]
  },
  {
   "cell_type": "code",
   "execution_count": 5,
   "metadata": {},
   "outputs": [
    {
     "name": "stdout",
     "output_type": "stream",
     "text": [
      "Requirement already satisfied: setuptools in c:\\users\\vanya\\appdata\\local\\packages\\pythonsoftwarefoundation.python.3.9_qbz5n2kfra8p0\\localcache\\local-packages\\python39\\site-packages (67.3.2)\n",
      "Requirement already satisfied: wheel in c:\\users\\vanya\\appdata\\local\\packages\\pythonsoftwarefoundation.python.3.9_qbz5n2kfra8p0\\localcache\\local-packages\\python39\\site-packages (0.38.4)\n"
     ]
    },
    {
     "name": "stderr",
     "output_type": "stream",
     "text": [
      "WARNING: You are using pip version 22.0.4; however, version 23.0 is available.\n",
      "You should consider upgrading via the 'C:\\Users\\Vanya\\AppData\\Local\\Microsoft\\WindowsApps\\PythonSoftwareFoundation.Python.3.9_qbz5n2kfra8p0\\python.exe -m pip install --upgrade pip' command.\n"
     ]
    }
   ],
   "source": [
    "!python3 -m pip install --user --upgrade setuptools wheel"
   ]
  },
  {
   "attachments": {},
   "cell_type": "markdown",
   "metadata": {},
   "source": [
    "And now let's create a new library for Python. From the folder where setup.py is located, we will call the command:"
   ]
  },
  {
   "cell_type": "code",
   "execution_count": 6,
   "metadata": {},
   "outputs": [
    {
     "name": "stdout",
     "output_type": "stream",
     "text": [
      "running sdist\n",
      "running egg_info\n",
      "writing python_course_package.egg-info\\PKG-INFO\n",
      "writing dependency_links to python_course_package.egg-info\\dependency_links.txt\n",
      "writing top-level names to python_course_package.egg-info\\top_level.txt\n",
      "reading manifest file 'python_course_package.egg-info\\SOURCES.txt'\n",
      "writing manifest file 'python_course_package.egg-info\\SOURCES.txt'\n",
      "running check\n",
      "creating python_course_package-0.0.1\n",
      "creating python_course_package-0.0.1\\pkg\n",
      "creating python_course_package-0.0.1\\python_course_package.egg-info\n",
      "copying files to python_course_package-0.0.1...\n",
      "copying pkg\\__init__.py -> python_course_package-0.0.1\\pkg\n",
      "copying pkg\\mod1.py -> python_course_package-0.0.1\\pkg\n",
      "copying pkg\\mod2.py -> python_course_package-0.0.1\\pkg\n",
      "copying python_course_package.egg-info\\PKG-INFO -> python_course_package-0.0.1\\python_course_package.egg-info\n",
      "copying python_course_package.egg-info\\SOURCES.txt -> python_course_package-0.0.1\\python_course_package.egg-info\n",
      "copying python_course_package.egg-info\\dependency_links.txt -> python_course_package-0.0.1\\python_course_package.egg-info\n",
      "copying python_course_package.egg-info\\top_level.txt -> python_course_package-0.0.1\\python_course_package.egg-info\n",
      "Writing python_course_package-0.0.1\\setup.cfg\n",
      "Creating tar archive\n",
      "removing 'python_course_package-0.0.1' (and everything under it)\n",
      "running bdist_wheel\n",
      "running build\n",
      "running build_py\n",
      "installing to build\\bdist.win-amd64\\wheel\n",
      "running install\n",
      "running install_lib\n",
      "creating build\\bdist.win-amd64\\wheel\n",
      "creating build\\bdist.win-amd64\\wheel\\pkg\n",
      "copying build\\lib\\pkg\\mod1.py -> build\\bdist.win-amd64\\wheel\\.\\pkg\n",
      "copying build\\lib\\pkg\\mod2.py -> build\\bdist.win-amd64\\wheel\\.\\pkg\n",
      "copying build\\lib\\pkg\\__init__.py -> build\\bdist.win-amd64\\wheel\\.\\pkg\n",
      "running install_egg_info\n",
      "Copying python_course_package.egg-info to build\\bdist.win-amd64\\wheel\\.\\python_course_package-0.0.1-py3.9.egg-info\n",
      "running install_scripts\n",
      "creating build\\bdist.win-amd64\\wheel\\python_course_package-0.0.1.dist-info\\WHEEL\n",
      "creating 'dist\\python_course_package-0.0.1-py3-none-any.whl' and adding 'build\\bdist.win-amd64\\wheel' to it\n",
      "adding 'pkg/__init__.py'\n",
      "adding 'pkg/mod1.py'\n",
      "adding 'pkg/mod2.py'\n",
      "adding 'python_course_package-0.0.1.dist-info/METADATA'\n",
      "adding 'python_course_package-0.0.1.dist-info/WHEEL'\n",
      "adding 'python_course_package-0.0.1.dist-info/top_level.txt'\n",
      "adding 'python_course_package-0.0.1.dist-info/RECORD'\n",
      "removing build\\bdist.win-amd64\\wheel\n"
     ]
    },
    {
     "name": "stderr",
     "output_type": "stream",
     "text": [
      "warning: sdist: standard file not found: should have one of README, README.rst, README.txt, README.md\n",
      "\n",
      "C:\\Users\\Vanya\\AppData\\Local\\Packages\\PythonSoftwareFoundation.Python.3.9_qbz5n2kfra8p0\\LocalCache\\local-packages\\Python39\\site-packages\\setuptools\\command\\install.py:34: SetuptoolsDeprecationWarning: setup.py install is deprecated. Use build and pip and other standards-based tools.\n",
      "  warnings.warn(\n"
     ]
    }
   ],
   "source": [
    "!python3 ..\\modules_and_packages\\python_course_package\\example_pkg\\setup.py sdist bdist_wheel"
   ]
  },
  {
   "attachments": {},
   "cell_type": "markdown",
   "metadata": {},
   "source": [
    "The sdist argument will create an archive with the library in the default format for the operating system - tar.gz for Unix-like systems and zip for Windows.\n",
    "\n",
    "The bdist_wheel argument creates a distribution of the library with a whl extension.\n",
    "\n",
    "After processing, we get the following folders:"
   ]
  },
  {
   "cell_type": "code",
   "execution_count": null,
   "metadata": {},
   "outputs": [],
   "source": [
    "build example_pkg setup.py\n",
    "dist python_course_package.egg-info"
   ]
  },
  {
   "attachments": {},
   "cell_type": "markdown",
   "metadata": {},
   "source": [
    "The packaged library is located in the dist folder:"
   ]
  },
  {
   "cell_type": "code",
   "execution_count": null,
   "metadata": {},
   "outputs": [],
   "source": [
    "python-course-package-0.0.1.tar.gz python_course_package-0.0.1-py3-none-any.whl"
   ]
  },
  {
   "attachments": {},
   "cell_type": "markdown",
   "metadata": {},
   "source": [
    "Install the library in Python using pip:"
   ]
  },
  {
   "cell_type": "code",
   "execution_count": 7,
   "metadata": {},
   "outputs": [
    {
     "name": "stdout",
     "output_type": "stream",
     "text": [
      "Processing c:\\users\\vanya\\documents\\python scripts\\python_practice\\python_advanced_course\\modules_and_packages\\dist\\python_course_package-0.0.1-py3-none-any.whl\n",
      "python-course-package is already installed with the same version as the provided wheel. Use --force-reinstall to force an installation of the wheel.\n"
     ]
    },
    {
     "name": "stderr",
     "output_type": "stream",
     "text": [
      "WARNING: You are using pip version 22.0.4; however, version 23.0 is available.\n",
      "You should consider upgrading via the 'C:\\Users\\Vanya\\AppData\\Local\\Microsoft\\WindowsApps\\PythonSoftwareFoundation.Python.3.9_qbz5n2kfra8p0\\python.exe -m pip install --upgrade pip' command.\n"
     ]
    }
   ],
   "source": [
    "!pip install ..\\modules_and_packages\\dist\\python_course_package-0.0.1-py3-none-any.whl"
   ]
  },
  {
   "attachments": {},
   "cell_type": "markdown",
   "metadata": {},
   "source": [
    "And now let's import the created library and see the result of calling the print() method in the console:"
   ]
  },
  {
   "cell_type": "code",
   "execution_count": 1,
   "metadata": {},
   "outputs": [],
   "source": [
    "import python_course_package"
   ]
  }
 ],
 "metadata": {
  "kernelspec": {
   "display_name": "Python 3",
   "language": "python",
   "name": "python3"
  },
  "language_info": {
   "codemirror_mode": {
    "name": "ipython",
    "version": 3
   },
   "file_extension": ".py",
   "mimetype": "text/x-python",
   "name": "python",
   "nbconvert_exporter": "python",
   "pygments_lexer": "ipython3",
   "version": "3.9.13"
  },
  "orig_nbformat": 4,
  "vscode": {
   "interpreter": {
    "hash": "bedf3b64920aa7e1c49377a911937112f9a54cf7a67efed16c9a0f6b95a532e2"
   }
  }
 },
 "nbformat": 4,
 "nbformat_minor": 2
}
