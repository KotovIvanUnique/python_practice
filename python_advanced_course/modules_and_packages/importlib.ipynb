{
 "cells": [
  {
   "attachments": {},
   "cell_type": "markdown",
   "metadata": {},
   "source": [
    "# importlib module"
   ]
  },
  {
   "attachments": {},
   "cell_type": "markdown",
   "metadata": {},
   "source": [
    "This python standard library module provides an implementation of the Python import statement as well as the \\_\\_import\\_\\_() function.\n",
    "\n",
    "Allows you to dynamically load modules and makes it possible to create your own importer to implement custom loading of modules."
   ]
  },
  {
   "attachments": {},
   "cell_type": "markdown",
   "metadata": {},
   "source": [
    "### Dynamic Import"
   ]
  },
  {
   "attachments": {},
   "cell_type": "markdown",
   "metadata": {},
   "source": [
    "Importlib supports dynamic import of modules and allows you to load a module whose name was passed as a string.\n",
    "\n",
    "For example:"
   ]
  },
  {
   "cell_type": "code",
   "execution_count": null,
   "metadata": {},
   "outputs": [],
   "source": [
    "# foo.py\n",
    "def main():\n",
    "    print(__name__)\n",
    "# dynamic_import_module.py\n",
    "import importlib\n",
    "def dynamic_import(module):\n",
    "    return importlib.import_module(module)\n",
    "if __name__ == '__main__':\n",
    "    module = dynamic_import('foo')\n",
    "    module.main()"
   ]
  },
  {
   "attachments": {},
   "cell_type": "markdown",
   "metadata": {},
   "source": [
    "The search for the foo module follows the same rules as when using the import statement.\n",
    "\n",
    "Checking for the possibility of importing a module is carried out as follows:"
   ]
  },
  {
   "cell_type": "code",
   "execution_count": 1,
   "metadata": {},
   "outputs": [
    {
     "name": "stdout",
     "output_type": "stream",
     "text": [
      "Module: collections can be imported!\n",
      "['ChainMap', 'Counter', 'OrderedDict', 'UserDict', 'UserList', 'UserString', '_Link', '_OrderedDictItemsView', '_OrderedDictKeysView', '_OrderedDictValuesView', '__all__', '__builtins__', '__cached__', '__doc__', '__file__', '__getattr__', '__loader__', '__name__', '__package__', '__path__', '__spec__', '_chain', '_collections_abc', '_count_elements', '_eq', '_heapq', '_iskeyword', '_itemgetter', '_proxy', '_recursive_repr', '_repeat', '_starmap', '_sys', '_tuplegetter', 'defaultdict', 'deque', 'namedtuple']\n"
     ]
    }
   ],
   "source": [
    "import importlib.util\n",
    "def check_module(module_name):\n",
    "    module_spec = importlib.util.find_spec(module_name)\n",
    "    if module_spec is not None:\n",
    "        print('Module: {} can be imported!'.format(module_name))\n",
    "        return module_spec\n",
    "def import_module_from_spec(module_spec):\n",
    "    module = importlib.util.module_from_spec(module_spec)\n",
    "    module_spec.loader.exec_module(module)\n",
    "    return module\n",
    "if __name__ == '__main__':\n",
    "    module_spec = check_module('collections')\n",
    "    if module_spec:\n",
    "        module = import_module_from_spec(module_spec)\n",
    "        print(dir(module))"
   ]
  },
  {
   "attachments": {},
   "cell_type": "markdown",
   "metadata": {},
   "source": [
    "If, using importlib.import_module, we passed a string to the input, then here we first, using importlib.util.find_spec, try to find the module specification, and then, if it is found, using importlib.util.module_from_spec, we load the module into module_spec. loader.exec_module executing it.\n",
    "\n",
    "Also importlib supports loading module specification by path and name."
   ]
  },
  {
   "cell_type": "code",
   "execution_count": null,
   "metadata": {},
   "outputs": [],
   "source": [
    "module_spec = importlib.util.spec_from_file_location(\n",
    "    module_name, module_file_path\n",
    ")"
   ]
  },
  {
   "attachments": {},
   "cell_type": "markdown",
   "metadata": {},
   "source": [
    "If the specification is found, the module can be loaded using the known mechanisms from the example above.\n",
    "\n",
    "In summary, I would like to note that the importlib module is not used often, because. it introduces implicit (dynamic) module loading capabilities, from which it finds its application in tasks when it is necessary to perform some actions at the time of module loading, cleverly create a class factory, etc. It can be useful when creating systems that accept python files as input, check them and execute them, for example, sports programming systems - hackerrank.com and similar ones."
   ]
  }
 ],
 "metadata": {
  "kernelspec": {
   "display_name": "Python 3",
   "language": "python",
   "name": "python3"
  },
  "language_info": {
   "codemirror_mode": {
    "name": "ipython",
    "version": 3
   },
   "file_extension": ".py",
   "mimetype": "text/x-python",
   "name": "python",
   "nbconvert_exporter": "python",
   "pygments_lexer": "ipython3",
   "version": "3.9.13"
  },
  "orig_nbformat": 4,
  "vscode": {
   "interpreter": {
    "hash": "bedf3b64920aa7e1c49377a911937112f9a54cf7a67efed16c9a0f6b95a532e2"
   }
  }
 },
 "nbformat": 4,
 "nbformat_minor": 2
}
