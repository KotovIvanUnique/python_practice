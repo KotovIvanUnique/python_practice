{
 "cells": [
  {
   "attachments": {},
   "cell_type": "markdown",
   "metadata": {},
   "source": [
    "# Polymorphism"
   ]
  },
  {
   "cell_type": "markdown",
   "metadata": {},
   "source": [
    "Polymorphism is the ability of classes to change the behavior they have inherited from base classes.\n",
    "\n",
    "When multiple classes or subclasses have the same method names but different implementations for the same methods, the classes can be said to be polymorphic."
   ]
  },
  {
   "cell_type": "code",
   "execution_count": 11,
   "metadata": {},
   "outputs": [],
   "source": [
    "class Person:\n",
    "    def __init__(self, name, age):\n",
    "        self.__name = name \n",
    "        self.__age = age\n",
    "\n",
    "class Employee(Person):\n",
    "    def __init__(self, name, age, company):\n",
    "        Person.__init__(self, name, age)\n",
    "        self.company = company"
   ]
  },
  {
   "attachments": {},
   "cell_type": "markdown",
   "metadata": {},
   "source": [
    "In this example, we can see that the Employee class polymorphically modifies the __init__() method by adding another company variable there. You can also change not only the number of arguments, but also their type or return type.\n",
    "\n",
    "Polymorphism in code provides loose coupling and, because of this, it can be easily extended and maintained. On the other hand, you need to be careful when designing classes. When creating polymorphic classes, inheriting one from the other, functions should be correctly redefined, for example, adding new variables to a function can lead to an error, because these variables are not passed to the base class method."
   ]
  }
 ],
 "metadata": {
  "kernelspec": {
   "display_name": "Python 3",
   "language": "python",
   "name": "python3"
  },
  "language_info": {
   "codemirror_mode": {
    "name": "ipython",
    "version": 3
   },
   "file_extension": ".py",
   "mimetype": "text/x-python",
   "name": "python",
   "nbconvert_exporter": "python",
   "pygments_lexer": "ipython3",
   "version": "3.9.13"
  },
  "orig_nbformat": 4,
  "vscode": {
   "interpreter": {
    "hash": "bedf3b64920aa7e1c49377a911937112f9a54cf7a67efed16c9a0f6b95a532e2"
   }
  }
 },
 "nbformat": 4,
 "nbformat_minor": 2
}
