{
 "cells": [
  {
   "attachments": {},
   "cell_type": "markdown",
   "metadata": {},
   "source": [
    "# Inheritance"
   ]
  },
  {
   "attachments": {},
   "cell_type": "markdown",
   "metadata": {},
   "source": [
    "Inheritance is an OOP principle that allows you to describe a new class based on an existing one.\n",
    "\n",
    "The class from which inheritance is made is called the base or parent class. The new class is a child, inheritor, or derived class. In this case, the inheritor class receives at its disposal the methods and variables of the base class.\n",
    "\n",
    "In python3, all classes implicitly inherit from the object class:"
   ]
  },
  {
   "cell_type": "code",
   "execution_count": 2,
   "metadata": {},
   "outputs": [
    {
     "data": {
      "text/plain": [
       "['__class__',\n",
       " '__delattr__',\n",
       " '__dict__',\n",
       " '__dir__',\n",
       " '__doc__',\n",
       " '__eq__',\n",
       " '__format__',\n",
       " '__ge__',\n",
       " '__getattribute__',\n",
       " '__gt__',\n",
       " '__hash__',\n",
       " '__init__',\n",
       " '__init_subclass__',\n",
       " '__le__',\n",
       " '__lt__',\n",
       " '__module__',\n",
       " '__ne__',\n",
       " '__new__',\n",
       " '__reduce__',\n",
       " '__reduce_ex__',\n",
       " '__repr__',\n",
       " '__setattr__',\n",
       " '__sizeof__',\n",
       " '__str__',\n",
       " '__subclasshook__',\n",
       " '__weakref__']"
      ]
     },
     "execution_count": 2,
     "metadata": {},
     "output_type": "execute_result"
    }
   ],
   "source": [
    "class MyClass:\n",
    "    pass\n",
    "c = MyClass()\n",
    "dir(c)"
   ]
  },
  {
   "attachments": {},
   "cell_type": "markdown",
   "metadata": {},
   "source": [
    "That is, all custom classes already have a set of standard variables and methods:"
   ]
  },
  {
   "cell_type": "code",
   "execution_count": 3,
   "metadata": {},
   "outputs": [],
   "source": [
    "class Cat:\n",
    "\n",
    "    def __init__(self, first_name, last_name=\"Cat\"):\n",
    "        self.first_name = first_name\n",
    "        self.last_name = last_name\n",
    "\n",
    "    def meow(self):\n",
    "        print(\"The cat is meow.\")"
   ]
  },
  {
   "attachments": {},
   "cell_type": "markdown",
   "metadata": {},
   "source": [
    "Created a base Cat class and defined a few methods:"
   ]
  },
  {
   "cell_type": "code",
   "execution_count": 4,
   "metadata": {},
   "outputs": [
    {
     "name": "stdout",
     "output_type": "stream",
     "text": [
      "Lisa Cat\n",
      "The cat is meow.\n"
     ]
    }
   ],
   "source": [
    "class MainCoon(Cat):\n",
    "    pass\n",
    "\n",
    "main_coon = MainCoon(\"Lisa\")\n",
    "print(main_coon.first_name + \" \" + main_coon.last_name)\n",
    "main_coon.meow()"
   ]
  },
  {
   "attachments": {},
   "cell_type": "markdown",
   "metadata": {},
   "source": [
    "We created a new MainCoon class and inherited from the Cat class, we see that the methods of the base class are executed when called. But this example is very simple, since usually, when inheriting, the programmer overrides the methods of the base class and writes his own, thereby expanding the functionality. But when constructing parent and child classes, it is important to consider the design of the program so that overriding does not lead to unnecessary or redundant code:"
   ]
  },
  {
   "cell_type": "code",
   "execution_count": 5,
   "metadata": {},
   "outputs": [],
   "source": [
    "class Tiger(Cat):\n",
    "    def __init__(self, first_name, last_name=\"Cat\",\n",
    "            color=\"orange_with_black\", location=\"Russia\"):\n",
    "        self.first_name = first_name\n",
    "        self.last_name = last_name\n",
    "        self.color = color\n",
    "        self.location = location\n",
    "\n",
    "    def print_tiger_location(self):\n",
    "        print(self.location)"
   ]
  },
  {
   "attachments": {},
   "cell_type": "markdown",
   "metadata": {},
   "source": [
    "In this example, there is one feature, we simply inherited from the Cat class, while we completely redefined __init__. But it's often convenient to call the base class method first, and then augment it with the logic of the derived class:"
   ]
  },
  {
   "cell_type": "code",
   "execution_count": 6,
   "metadata": {},
   "outputs": [],
   "source": [
    "class Tiger(Cat):\n",
    "    def __init__(self, first_name, last_name=\"Cat\",\n",
    "            color=\"orange_with_black\", location=\"Russia\"):\n",
    "        super().__init__(first_name, last_name)\n",
    "        self.color = color\n",
    "        self.location = location\n",
    "\n",
    "    def print_tiger_location(self):\n",
    "        print(self.location)"
   ]
  },
  {
   "attachments": {},
   "cell_type": "markdown",
   "metadata": {},
   "source": [
    "The super keyword will help us here, which allows us to refer to the ancestor class, call its method and pass the necessary arguments to it.\n",
    "\n",
    "In addition to single-ancestor inheritance, Python supports multiple inheritance, which is when a class can inherit attributes and methods from multiple parent classes.\n",
    "\n",
    "There is also a special case of multiple inheritance, when the methods and attributes of the parent classes do not overlap - this is called MixIn."
   ]
  },
  {
   "cell_type": "code",
   "execution_count": 7,
   "metadata": {},
   "outputs": [],
   "source": [
    "class FlyingDuck:\n",
    "\n",
    "    def fly(self):\n",
    "        print(\"I am flying duck\")\n",
    "\n",
    "class RedDuck:\n",
    "\n",
    "    def color(self):\n",
    "        return \"red\"\n",
    "\n",
    "class RedFlyingDuck(FlyingDuck, RedDuck):\n",
    "    pass"
   ]
  },
  {
   "attachments": {},
   "cell_type": "markdown",
   "metadata": {},
   "source": [
    "The danger with multiple inheritance is the chance for confusion, as in this case Python uses the MRO principle to call a base class method. Also, the code becomes hard to maintain, because changes in one of the parent classes can be critical for the derived classes."
   ]
  },
  {
   "cell_type": "markdown",
   "metadata": {},
   "source": [
    "# Method Resolution Order"
   ]
  },
  {
   "attachments": {},
   "cell_type": "markdown",
   "metadata": {},
   "source": [
    "Method Resolution Order (MRO) is the order in which Python looks for a method in the class hierarchy.\n",
    "\n",
    "Let's look at examples."
   ]
  },
  {
   "cell_type": "code",
   "execution_count": 9,
   "metadata": {},
   "outputs": [
    {
     "name": "stdout",
     "output_type": "stream",
     "text": [
      "[<class '__main__.C'>, <class '__main__.A'>, <class '__main__.B'>, <class 'object'>]\n"
     ]
    }
   ],
   "source": [
    "class A:\n",
    "    def process(self):\n",
    "        print(\"A process()\")\n",
    "\n",
    "class B:\n",
    "    pass\n",
    "\n",
    "class C(A, B):\n",
    "    pass\n",
    "\n",
    "obj = C()     \n",
    "print(C.mro())"
   ]
  },
  {
   "attachments": {},
   "cell_type": "markdown",
   "metadata": {},
   "source": [
    "The mro() method, available by default for classes, returns a list in which it will look for a method to execute, if the method is not found, an error will occur."
   ]
  },
  {
   "attachments": {},
   "cell_type": "markdown",
   "metadata": {},
   "source": [
    "In this example, we can see that the search happens from left to right."
   ]
  },
  {
   "cell_type": "code",
   "execution_count": 10,
   "metadata": {},
   "outputs": [
    {
     "name": "stdout",
     "output_type": "stream",
     "text": [
      "[<class '__main__.D'>, <class '__main__.C'>, <class '__main__.A'>, <class '__main__.B'>, <class 'object'>]\n"
     ]
    }
   ],
   "source": [
    "class A:\n",
    "    def process(self):\n",
    "        print(\"A process()\")\n",
    "\n",
    "class B:\n",
    "    def process(self):\n",
    "        print(\"B process()\")\n",
    "\n",
    "class C(A, B):\n",
    "    def process(self):\n",
    "        print(\"C process()\")\n",
    "\n",
    "class D(C,B):\n",
    "    pass\n",
    "\n",
    "obj = D()\n",
    "print(D.mro())"
   ]
  },
  {
   "attachments": {},
   "cell_type": "markdown",
   "metadata": {},
   "source": [
    "Here we go into depth, first along the tree of the first ancestor, then, because class C has an ancestor B, it is not called again."
   ]
  },
  {
   "cell_type": "code",
   "execution_count": 12,
   "metadata": {},
   "outputs": [
    {
     "name": "stdout",
     "output_type": "stream",
     "text": [
      "[<class '__main__.D'>, <class '__main__.B'>, <class '__main__.C'>, <class '__main__.A'>, <class 'object'>]\n"
     ]
    }
   ],
   "source": [
    "class A:\n",
    "    def process(self):\n",
    "        print(\"A process()\")\n",
    "\n",
    "class B(A):\n",
    "    pass\n",
    "\n",
    "class C(A):\n",
    "    def process(self):\n",
    "        print(\"C process()\")\n",
    "\n",
    "class D(B,C):\n",
    "    pass\n",
    "\n",
    "obj = D()\n",
    "print(D.mro())"
   ]
  },
  {
   "attachments": {},
   "cell_type": "markdown",
   "metadata": {},
   "source": [
    "In this case, Python uses a trick and changes the search classes as follows:\n",
    "\n",
    "D -> B -> A -> C -> A\n",
    "\n",
    "D -> B-> A -> object -> C -> A -> object\n",
    "\n",
    "D -> B -> C -> A -> object"
   ]
  },
  {
   "attachments": {},
   "cell_type": "markdown",
   "metadata": {},
   "source": [
    "Inheritance is a tool on which competent system design is based, it is the ability to select basic entities and, on their basis, make heirs that will carry more highly specialized functionality.\n",
    "\n",
    "Multiple inheritance is usually not used, as it leads to errors and complication of the code. The only cases where this is justified are inheritance from interfaces / abstract classes that do not carry a specific implementation, while the base classes for the heir should be as different as possible so that there are no intersections in methods or variables."
   ]
  }
 ],
 "metadata": {
  "kernelspec": {
   "display_name": "Python 3",
   "language": "python",
   "name": "python3"
  },
  "language_info": {
   "codemirror_mode": {
    "name": "ipython",
    "version": 3
   },
   "file_extension": ".py",
   "mimetype": "text/x-python",
   "name": "python",
   "nbconvert_exporter": "python",
   "pygments_lexer": "ipython3",
   "version": "3.9.13"
  },
  "orig_nbformat": 4,
  "vscode": {
   "interpreter": {
    "hash": "bedf3b64920aa7e1c49377a911937112f9a54cf7a67efed16c9a0f6b95a532e2"
   }
  }
 },
 "nbformat": 4,
 "nbformat_minor": 2
}
