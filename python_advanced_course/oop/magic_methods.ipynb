{
 "cells": [
  {
   "attachments": {},
   "cell_type": "markdown",
   "metadata": {},
   "source": [
    "# Magic Methods"
   ]
  },
  {
   "attachments": {},
   "cell_type": "markdown",
   "metadata": {},
   "source": [
    "We looked at the basic principles of OOP and how to work with them in Python. Next, let's dive a little deeper into Python and see what else we can do with class design.\n",
    "\n",
    "Magic methods are special methods that have a double underscore at the beginning and end of their names.\n",
    "\n",
    "These methods are not called manually, Python does it for us.\n",
    "\n",
    "We are talking about the ability to perform the operations == , in, <= , >= and others that are so convenient when working with built-in classes."
   ]
  },
  {
   "cell_type": "code",
   "execution_count": null,
   "metadata": {},
   "outputs": [],
   "source": [
    "__init__ - initialization of a class object\n",
    "\n",
    "__del__(self) - called when the garbage collector removes an object\n",
    "\n",
    "__str__(self) - when the str() function is called, applicable to a class object\n",
    "\n",
    "__eq__(self, other) — object comparison via ==\n",
    "\n",
    "__add__(self, other) - addition through +\n",
    "\n",
    "__sub__(self, other) - subtraction through -\n",
    "\n",
    "__int__(self) - object conversion by int() function\n",
    "\n",
    "__hash__(self) - determining the hash of an object when calling the hash() function\n",
    "\n",
    "__len__(self) - number of elements in object container"
   ]
  },
  {
   "cell_type": "code",
   "execution_count": 1,
   "metadata": {},
   "outputs": [
    {
     "name": "stdout",
     "output_type": "stream",
     "text": [
      "Bob/24\n"
     ]
    }
   ],
   "source": [
    "class Person:\n",
    "    def __init__(self, name, age):\n",
    "        self.__name = name\n",
    "        self.__age = age\n",
    "    def __str__(self):\n",
    "        return self.__name + \"/\" + str(self.__age)\n",
    "p = Person(\"Bob\", 24)\n",
    "print(str(p))"
   ]
  }
 ],
 "metadata": {
  "kernelspec": {
   "display_name": "Python 3",
   "language": "python",
   "name": "python3"
  },
  "language_info": {
   "codemirror_mode": {
    "name": "ipython",
    "version": 3
   },
   "file_extension": ".py",
   "mimetype": "text/x-python",
   "name": "python",
   "nbconvert_exporter": "python",
   "pygments_lexer": "ipython3",
   "version": "3.9.13"
  },
  "orig_nbformat": 4,
  "vscode": {
   "interpreter": {
    "hash": "bedf3b64920aa7e1c49377a911937112f9a54cf7a67efed16c9a0f6b95a532e2"
   }
  }
 },
 "nbformat": 4,
 "nbformat_minor": 2
}
