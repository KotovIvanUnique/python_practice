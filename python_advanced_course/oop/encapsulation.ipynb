{
 "cells": [
  {
   "attachments": {},
   "cell_type": "markdown",
   "metadata": {},
   "source": [
    "# Encapsulation"
   ]
  },
  {
   "attachments": {},
   "cell_type": "markdown",
   "metadata": {},
   "source": [
    "Encapsulation, along with inheritance and polymorphism, is one of the three pillars of OOP.\n",
    "\n",
    "Encapsulation can be properly considered from two points of view:\n",
    "\n",
    "1. It is the association of data with the methods that this data uses.\n",
    "2. It is the control of access to data and the methods that this data uses.\n",
    "\n",
    "The explanation of encapsulation as a relationship is simple - it can be any class in which attributes exist and there are methods that these attributes use. After all, no one forbids creating a class without user methods and a class with methods, but without user variables.\n",
    "\n",
    "Of course, usually encapsulation is meant as access control to methods and data. Access in this case is the ability to see/change class attributes and methods.\n",
    "\n",
    "There are three levels of data access in Python:\n",
    "\n",
    "- public - available to everyone;\n",
    "- private - available only inside the class;\n",
    "- protected - available inside the class and inside classes of heirs.\n",
    "\n",
    "The public level is the default level, no special constructs need to be used to make an attribute or method public. See an example of the Auto class.\n",
    "\n",
    "To make an attribute or method protected, you need to add a single _ before the name:"
   ]
  },
  {
   "cell_type": "code",
   "execution_count": 1,
   "metadata": {},
   "outputs": [],
   "source": [
    "class Auto:  \n",
    "    wheel_count = 4\n",
    "    def __init__(self, model, year, price):\n",
    "        self.model = model\n",
    "        self.year = year\n",
    "        self._price = price"
   ]
  },
  {
   "attachments": {},
   "cell_type": "markdown",
   "metadata": {},
   "source": [
    "To make an attribute or method private, you need to add two __ characters in front of the name:"
   ]
  },
  {
   "cell_type": "code",
   "execution_count": 2,
   "metadata": {},
   "outputs": [],
   "source": [
    "class Auto:    \n",
    "    wheel_count = 4\n",
    "    def __init__(self, model, year, price, model_description):\n",
    "        self.model = model\n",
    "        self.year = year\n",
    "        self._price = price\n",
    "        self.__secret_description = model_description"
   ]
  },
  {
   "attachments": {},
   "cell_type": "markdown",
   "metadata": {},
   "source": [
    "Although direct access will fail, in Python, encapsulation regulation is just a convention:"
   ]
  },
  {
   "cell_type": "code",
   "execution_count": 3,
   "metadata": {},
   "outputs": [
    {
     "name": "stdout",
     "output_type": "stream",
     "text": [
      "My pin is :  955\n",
      "New serial number is  2222 3333 4444 66666\n"
     ]
    }
   ],
   "source": [
    "class BankCard:\n",
    "    __serial_number = \"1111 2222 3333 4444\" # private-переменная\n",
    "    __pin = 955 # private-переменная\n",
    "\n",
    "    def __get_pin(self): # private-метод\n",
    "        print( \"My pin is : \", self.__pin)\n",
    "        \n",
    "bank_card = BankCard()\n",
    "bank_card._BankCard__get_pin()\n",
    "bank_card._BankCard__serial_number = \"2222 3333 4444 66666\"\n",
    "print( \"New serial number is \", bank_card._BankCard__serial_number )"
   ]
  },
  {
   "attachments": {},
   "cell_type": "markdown",
   "metadata": {},
   "source": [
    "When designing classes, you need to think in advance which attributes and methods to leave public and which to close, because you don’t need to give all the internals for access to other developers.\n",
    "\n",
    "While access control is a convention in Python, it is essential and good practice for all team members to adhere to it."
   ]
  }
 ],
 "metadata": {
  "kernelspec": {
   "display_name": "Python 3",
   "language": "python",
   "name": "python3"
  },
  "language_info": {
   "codemirror_mode": {
    "name": "ipython",
    "version": 3
   },
   "file_extension": ".py",
   "mimetype": "text/x-python",
   "name": "python",
   "nbconvert_exporter": "python",
   "pygments_lexer": "ipython3",
   "version": "3.9.13"
  },
  "orig_nbformat": 4,
  "vscode": {
   "interpreter": {
    "hash": "bedf3b64920aa7e1c49377a911937112f9a54cf7a67efed16c9a0f6b95a532e2"
   }
  }
 },
 "nbformat": 4,
 "nbformat_minor": 2
}
