{
 "cells": [
  {
   "attachments": {},
   "cell_type": "markdown",
   "metadata": {},
   "source": [
    "# Class Basics"
   ]
  },
  {
   "attachments": {},
   "cell_type": "markdown",
   "metadata": {},
   "source": [
    "Object-oriented programming is a software development paradigm that structures a program in such a way that the behavior and properties of entities are grouped into classes, of which objects are concrete implementations.\n",
    "\n",
    "For example: parking with various means of transportation. Class - auto, class - motorcycle, they have properties: brand, color, location in the parking lot, there is a behavior: start moving, stop, etc. Specific objects of these classes are a blue Mercedes in location 11a or a black Honda motorcycle in location 42b.\n",
    "\n",
    "Python is a language with many paradigms, in addition to OOP, you can structure programs in a procedural programming way. It all depends on the technical requirements for the product.\n",
    "\n",
    "For simple things like numbers, strings, and more complex things like lists, dictionaries, etc. Python implements its own classes, which were discussed in previous modules. It is important to note that a class is a template for creating objects that provides initial state values: initialization of variable fields and implementation of the behavior of functions or methods."
   ]
  },
  {
   "attachments": {},
   "cell_type": "markdown",
   "metadata": {},
   "source": [
    "### Objects (instance or class instance)"
   ]
  },
  {
   "attachments": {},
   "cell_type": "markdown",
   "metadata": {},
   "source": [
    "This is already a concrete implementation of the class, filled with user data and having the behavior described in the class.\n",
    "\n",
    "For example, a dict filled with several values is a specific object of the corresponding class, another dict with a different set of values is a different object."
   ]
  },
  {
   "attachments": {},
   "cell_type": "markdown",
   "metadata": {},
   "source": [
    "### How to create a class in Python?"
   ]
  },
  {
   "cell_type": "code",
   "execution_count": 1,
   "metadata": {},
   "outputs": [],
   "source": [
    "class Cat:\n",
    "    pass"
   ]
  },
  {
   "attachments": {},
   "cell_type": "markdown",
   "metadata": {},
   "source": [
    "Using the class keyword creates a class named Cat, an arbitrary name always followed by a colon.\n",
    "\n",
    "The pass keyword, as in many other places, is used as a stub, meaning we don't actually add new properties to the class. But without using pass, Python will throw an error."
   ]
  },
  {
   "attachments": {},
   "cell_type": "markdown",
   "metadata": {},
   "source": [
    "# Attributes and methods"
   ]
  },
  {
   "attachments": {},
   "cell_type": "markdown",
   "metadata": {},
   "source": [
    "### Object attributes"
   ]
  },
  {
   "cell_type": "markdown",
   "metadata": {},
   "source": [
    "To add properties to an object of your class, you need to implement the __init__() method:"
   ]
  },
  {
   "cell_type": "code",
   "execution_count": 2,
   "metadata": {},
   "outputs": [],
   "source": [
    "class Auto:\n",
    "    def __init__(self, model, year):\n",
    "        self.model = model\n",
    "        self.year = year"
   ]
  },
  {
   "attachments": {},
   "cell_type": "markdown",
   "metadata": {},
   "source": [
    "Where:\n",
    "\n",
    "self is a pointer to the object itself;\n",
    "\n",
    "model, year are variables that are passed inside the object when the __init__() method is called. They can be numbers, strings, other classes, functions, objects, etc.;\n",
    "\n",
    "self.model = model and self.year = year is the creation of an object attribute.\n",
    "\n",
    "The method does not need to be specifically called, it is called automatically when an object of the class is created."
   ]
  },
  {
   "attachments": {},
   "cell_type": "markdown",
   "metadata": {},
   "source": [
    "### Class attributes"
   ]
  },
  {
   "attachments": {},
   "cell_type": "markdown",
   "metadata": {},
   "source": [
    "By creating object attributes, you make the object unique, for example, each car is unique and has its own model and year of manufacture. But there are attributes that are common to all cars, for example, the number of wheels:"
   ]
  },
  {
   "cell_type": "code",
   "execution_count": 3,
   "metadata": {},
   "outputs": [],
   "source": [
    "class Auto:\n",
    "    wheel_count = 4\n",
    "    def __init__(self, model, year):\n",
    "        self.model = model\n",
    "        self.year = year"
   ]
  },
  {
   "attachments": {},
   "cell_type": "markdown",
   "metadata": {},
   "source": [
    "### Creating a class object"
   ]
  },
  {
   "attachments": {},
   "cell_type": "markdown",
   "metadata": {},
   "source": [
    "Above, we defined the Auto class, in order to create an object, you need to write the name of the class and pass the necessary parameters there."
   ]
  },
  {
   "cell_type": "code",
   "execution_count": 4,
   "metadata": {},
   "outputs": [],
   "source": [
    "new_nissan_auto = Auto(model=\"nissan\", year=\"2020\")"
   ]
  },
  {
   "attachments": {},
   "cell_type": "markdown",
   "metadata": {},
   "source": [
    "We create an Auto object and assign it to the new_nissan_auto variable. When passing two arguments: model, year, they are assigned to the corresponding variables of the Auto - self object during the __init__() method.\n",
    "\n",
    "Strictly speaking, the creation of an object in Python occurs in two stages:\n",
    "\n",
    "1. Creating an object is the __new__() magic method.\n",
    "2. Initializing an object with new attributes is the __init__() magic method.\n",
    "\n",
    "Abstractly it looks like this:"
   ]
  },
  {
   "cell_type": "code",
   "execution_count": 6,
   "metadata": {},
   "outputs": [],
   "source": [
    "class Foo:\n",
    "    def __new__(cls):\n",
    "        return super().__new__(cls)\n",
    "\n",
    "    def __init__(self):\n",
    "        pass"
   ]
  },
  {
   "attachments": {},
   "cell_type": "markdown",
   "metadata": {},
   "source": [
    "Inside the __new__() method, return causes the creation of a class object by calling the __new__() method of the object base class, which is the base class for all custom classes in Python.\n",
    "\n",
    "Then the __init__() method is called, in which the object's attributes are already being created, as in the example with the Auto class.\n",
    "\n",
    "Usually, in practice, the __new__() method does not need to be overridden, because the implementation of the new() method of the object class is missing. You just need to know that it is always called and keep that in mind."
   ]
  },
  {
   "attachments": {},
   "cell_type": "markdown",
   "metadata": {},
   "source": [
    "### Object Methods"
   ]
  },
  {
   "attachments": {},
   "cell_type": "markdown",
   "metadata": {},
   "source": [
    "As mentioned above, classes can not only describe the attributes of an object, but also define its behavior, which performs certain actions on these attributes. Such actions are called object methods.\n",
    "\n",
    "So __init__() is a method in which new attributes are added to an object:"
   ]
  },
  {
   "cell_type": "code",
   "execution_count": 7,
   "metadata": {},
   "outputs": [],
   "source": [
    "class Auto:\n",
    "    wheel_count = 4\n",
    "    def __init__(self, model, year):\n",
    "        self.model = model\n",
    "        self.year = year\n",
    "\n",
    "    def print_model(self):\n",
    "        print(self.model)\n",
    "\n",
    "    def set_year(self, new_year=\"2019\"):\n",
    "        self.year = new_year"
   ]
  },
  {
   "attachments": {},
   "cell_type": "markdown",
   "metadata": {},
   "source": [
    "In this example, we have implemented two new methods:\n",
    "\n",
    "print_model() - prints the car model to the console;\n",
    "\n",
    "set_year() - allows you to change the year of manufacture of the car.\n",
    "\n",
    "The def keyword is used in the same way as when creating functions, but, unlike functions, self is always the first attribute, although it is not explicitly passed.\n",
    "\n",
    "Otherwise, methods are similar to functions in Python, it is possible to:\n",
    "\n",
    "1. Specify required arguments:"
   ]
  },
  {
   "cell_type": "code",
   "execution_count": null,
   "metadata": {},
   "outputs": [],
   "source": [
    "def set_year(self, new_year):\n",
    "    self.year = new_year\n",
    "new_auto.set_year(2021)"
   ]
  },
  {
   "attachments": {},
   "cell_type": "markdown",
   "metadata": {},
   "source": [
    "2. Create default arguments:"
   ]
  },
  {
   "cell_type": "code",
   "execution_count": null,
   "metadata": {},
   "outputs": [],
   "source": [
    "def set_year(self, new_year=\"2019\"):\n",
    "    self.year = new_year"
   ]
  },
  {
   "cell_type": "markdown",
   "metadata": {},
   "source": [
    "3. When calling the method, pass parameters by key:"
   ]
  },
  {
   "cell_type": "code",
   "execution_count": null,
   "metadata": {},
   "outputs": [],
   "source": [
    "new_auto.set_year(new_year=\"2021\")"
   ]
  },
  {
   "cell_type": "markdown",
   "metadata": {},
   "source": [
    "4. Use a variable number of arguments *args, **kwargs:"
   ]
  },
  {
   "cell_type": "code",
   "execution_count": null,
   "metadata": {},
   "outputs": [],
   "source": [
    "def set_year(self, *args, **kwargs):\n",
    "     pass"
   ]
  },
  {
   "attachments": {},
   "cell_type": "markdown",
   "metadata": {},
   "source": [
    "### Class Methods"
   ]
  },
  {
   "attachments": {},
   "cell_type": "markdown",
   "metadata": {},
   "source": [
    "By analogy with object/class attributes, there are class methods:"
   ]
  },
  {
   "cell_type": "code",
   "execution_count": 10,
   "metadata": {},
   "outputs": [],
   "source": [
    "class MyClass:\n",
    "    class_const = \"new const\"\n",
    "\n",
    "    @classmethod\n",
    "    def method(cls, arg):\n",
    "        print('classmethod - %s %s' % (arg, cls.class_const ))"
   ]
  },
  {
   "attachments": {},
   "cell_type": "markdown",
   "metadata": {},
   "source": [
    "In Python, to create a class method, you need to use the @classmethod decorator and pass not self as the first argument, as is the case with an object, but cls - that is, a pointer to the class itself.\n",
    "\n",
    "As with object methods, calling a class method does not explicitly pass the cls argument:"
   ]
  },
  {
   "cell_type": "code",
   "execution_count": 11,
   "metadata": {},
   "outputs": [
    {
     "name": "stdout",
     "output_type": "stream",
     "text": [
      "classmethod - call class method new const\n"
     ]
    }
   ],
   "source": [
    "MyClass.method(\"call class method\")"
   ]
  },
  {
   "attachments": {},
   "cell_type": "markdown",
   "metadata": {},
   "source": [
    "A feature of using class methods is the ability to access class variables.\n",
    "\n",
    "In practice, class methods are created for operations on class attributes, that is, those cases where the creation of an object is not necessary."
   ]
  },
  {
   "attachments": {},
   "cell_type": "markdown",
   "metadata": {},
   "source": [
    "### @staticmethod decorator"
   ]
  },
  {
   "attachments": {},
   "cell_type": "markdown",
   "metadata": {},
   "source": [
    "@staticmethod is the ability in Python to make a static method, i.e. a method that can be called both using a class and using a class object, but in the first case there is no access to class variables, and in the second there is no access to object variables."
   ]
  },
  {
   "cell_type": "code",
   "execution_count": 12,
   "metadata": {},
   "outputs": [
    {
     "name": "stdout",
     "output_type": "stream",
     "text": [
      "4\n",
      "3\n"
     ]
    }
   ],
   "source": [
    "class Сalculator:\n",
    "    @staticmethod\n",
    "    def sum(x1, x2):\n",
    "        return x1 + x2\n",
    "c = Сalculator()\n",
    "print(c.sum(2,2))\n",
    "print(Сalculator.sum(1,2))"
   ]
  },
  {
   "attachments": {},
   "cell_type": "markdown",
   "metadata": {},
   "source": [
    "### @property decorator"
   ]
  },
  {
   "attachments": {},
   "cell_type": "markdown",
   "metadata": {},
   "source": [
    "@property is Python's ability to convert a class method to a read-only attribute."
   ]
  },
  {
   "cell_type": "code",
   "execution_count": 13,
   "metadata": {},
   "outputs": [
    {
     "name": "stdout",
     "output_type": "stream",
     "text": [
      "Tom Hanks\n",
      "Bob Dylan\n"
     ]
    }
   ],
   "source": [
    "class Student:\n",
    "    def __init__(self, fullname):\n",
    "        self._full_name = fullname\n",
    "    \n",
    "    @property\n",
    "    def fullname(self):\n",
    "        return self._full_name\n",
    "\n",
    "    @fullname.setter\n",
    "    def fullname(self, value):\n",
    "        self._full_name = value\n",
    "\n",
    "s = Student(\"Tom Hanks\")\n",
    "print(s.fullname)\n",
    "s.fullname = \"Bob Dylan\"\n",
    "print(s.fullname)"
   ]
  },
  {
   "attachments": {},
   "cell_type": "markdown",
   "metadata": {},
   "source": [
    "In this example, we are using @property to access the internal attribute _full_name, using the @<method wrapped property>.setter construct, we set the ability to change this attribute."
   ]
  }
 ],
 "metadata": {
  "kernelspec": {
   "display_name": "Python 3",
   "language": "python",
   "name": "python3"
  },
  "language_info": {
   "codemirror_mode": {
    "name": "ipython",
    "version": 3
   },
   "file_extension": ".py",
   "mimetype": "text/x-python",
   "name": "python",
   "nbconvert_exporter": "python",
   "pygments_lexer": "ipython3",
   "version": "3.9.13"
  },
  "orig_nbformat": 4,
  "vscode": {
   "interpreter": {
    "hash": "bedf3b64920aa7e1c49377a911937112f9a54cf7a67efed16c9a0f6b95a532e2"
   }
  }
 },
 "nbformat": 4,
 "nbformat_minor": 2
}
