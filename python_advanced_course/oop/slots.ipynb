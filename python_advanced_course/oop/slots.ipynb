{
 "cells": [
  {
   "attachments": {},
   "cell_type": "markdown",
   "metadata": {},
   "source": [
    "# Slots"
   ]
  },
  {
   "attachments": {},
   "cell_type": "markdown",
   "metadata": {},
   "source": [
    "Inside Python classes, implicitly for the developer, creates a dictionary that stores all the attributes of the class. This allows you to modify the attributes of an object during program operation."
   ]
  },
  {
   "cell_type": "code",
   "execution_count": 1,
   "metadata": {},
   "outputs": [
    {
     "name": "stdout",
     "output_type": "stream",
     "text": [
      "{'name': 'Bob', 'age': 24}\n"
     ]
    }
   ],
   "source": [
    "class Person:\n",
    "    def __init__(self, name, age):\n",
    "        self.name = name\n",
    "        self.age = age\n",
    "    def __str__(self):\n",
    "        return self.name + \"/\" + str(self.age)\n",
    "p = Person(\"Bob\", 24)\n",
    "print(p.__dict__)"
   ]
  },
  {
   "attachments": {},
   "cell_type": "markdown",
   "metadata": {},
   "source": [
    "But in some cases, when a large number of small objects are created, this can be memory intensive. To solve the problem of excessive memory consumption, as well as the ability to fix the number of attributes in a class, use slots - \\_\\_slots\\_\\_ .\n",
    "\n",
    "\\_\\_slots\\_\\_ can list attributes whose values need to be reserved, without creating a \\_\\_dict\\_\\_ dictionary, instead using a tuple."
   ]
  },
  {
   "cell_type": "code",
   "execution_count": 2,
   "metadata": {},
   "outputs": [
    {
     "ename": "AttributeError",
     "evalue": "'Person' object has no attribute '__dict__'",
     "output_type": "error",
     "traceback": [
      "\u001b[1;31m---------------------------------------------------------------------------\u001b[0m",
      "\u001b[1;31mAttributeError\u001b[0m                            Traceback (most recent call last)",
      "Cell \u001b[1;32mIn[2], line 9\u001b[0m\n\u001b[0;32m      7\u001b[0m         \u001b[39mreturn\u001b[39;00m \u001b[39mself\u001b[39m\u001b[39m.\u001b[39mname \u001b[39m+\u001b[39m \u001b[39m\"\u001b[39m\u001b[39m/\u001b[39m\u001b[39m\"\u001b[39m \u001b[39m+\u001b[39m \u001b[39mstr\u001b[39m(\u001b[39mself\u001b[39m\u001b[39m.\u001b[39mage)\n\u001b[0;32m      8\u001b[0m p \u001b[39m=\u001b[39m Person(\u001b[39m\"\u001b[39m\u001b[39mBob\u001b[39m\u001b[39m\"\u001b[39m, \u001b[39m24\u001b[39m)\n\u001b[1;32m----> 9\u001b[0m \u001b[39mprint\u001b[39m(p\u001b[39m.\u001b[39;49m\u001b[39m__dict__\u001b[39;49m)\n",
      "\u001b[1;31mAttributeError\u001b[0m: 'Person' object has no attribute '__dict__'"
     ]
    }
   ],
   "source": [
    "class Person:\n",
    "    __slots__ = (\"name\", \"age\")\n",
    "    def __init__(self, name, age):\n",
    "        self.name = name\n",
    "        self.age = age\n",
    "    def __str__(self):\n",
    "        return self.name + \"/\" + str(self.age)\n",
    "p = Person(\"Bob\", 24)\n",
    "print(p.__dict__)"
   ]
  },
  {
   "cell_type": "code",
   "execution_count": 3,
   "metadata": {},
   "outputs": [
    {
     "name": "stdout",
     "output_type": "stream",
     "text": [
      "('name', 'age')\n",
      "<class 'tuple'>\n"
     ]
    }
   ],
   "source": [
    "class Person:\n",
    "    __slots__ = (\"name\", \"age\")\n",
    "    def __init__(self, name, age):\n",
    "        self.name = name\n",
    "        self.age = age\n",
    "    def __str__(self):\n",
    "        return self.name + \"/\" + str(self.age)\n",
    "p = Person(\"Bob\", 24)\n",
    "print(p.__slots__)\n",
    "print(type(p.__slots__))"
   ]
  },
  {
   "attachments": {},
   "cell_type": "markdown",
   "metadata": {},
   "source": [
    "It is also convenient to use slots in those moments when the class is developed and its further expansion is not planned, this can serve as additional information for other system developers."
   ]
  }
 ],
 "metadata": {
  "kernelspec": {
   "display_name": "Python 3",
   "language": "python",
   "name": "python3"
  },
  "language_info": {
   "codemirror_mode": {
    "name": "ipython",
    "version": 3
   },
   "file_extension": ".py",
   "mimetype": "text/x-python",
   "name": "python",
   "nbconvert_exporter": "python",
   "pygments_lexer": "ipython3",
   "version": "3.9.13"
  },
  "orig_nbformat": 4,
  "vscode": {
   "interpreter": {
    "hash": "bedf3b64920aa7e1c49377a911937112f9a54cf7a67efed16c9a0f6b95a532e2"
   }
  }
 },
 "nbformat": 4,
 "nbformat_minor": 2
}
