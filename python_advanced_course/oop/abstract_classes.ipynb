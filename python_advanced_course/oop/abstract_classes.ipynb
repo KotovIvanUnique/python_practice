{
 "cells": [
  {
   "attachments": {},
   "cell_type": "markdown",
   "metadata": {},
   "source": [
    "# Abstract classes"
   ]
  },
  {
   "attachments": {},
   "cell_type": "markdown",
   "metadata": {},
   "source": [
    "Abstraction is the selection of a set of significant characteristics of an entity. An abstraction is a set of all such characteristics.\n",
    "\n",
    "An abstract class is a class that contains one or more abstract methods. An abstract method is a method that is declared but not implemented. It is impossible to create objects of abstract classes, you need to inherit from them and implement all their abstract methods, and only then you can create an instance of such a class. Python does not have built-in support for abstract classes, the abc (Abstract Base Class) module is used for this purpose:"
   ]
  },
  {
   "cell_type": "code",
   "execution_count": 2,
   "metadata": {},
   "outputs": [
    {
     "name": "stdout",
     "output_type": "stream",
     "text": [
      "Drew a chess piece\n",
      "Moved Queen to e2e4\n"
     ]
    }
   ],
   "source": [
    "from abc import ABC, abstractmethod\n",
    "class ChessPiece(ABC):\n",
    "     # a generic method that will be used by all descendants of this class\n",
    "     def draw(self):\n",
    "         print(\"Drew a chess piece\")\n",
    "\n",
    "     # abstract method that will need to be overridden for each successor\n",
    "     @abstractmethod\n",
    "     def move(self):\n",
    "         pass\n",
    "\n",
    "# a = ChessPiece()\n",
    "\n",
    "# get an error:\n",
    "class Queen(ChessPiece):\n",
    "     def move(self):\n",
    "         print(\"Moved Queen to e2e4\")\n",
    "\n",
    "# We can instantiate the class\n",
    "q = Queen()\n",
    "\n",
    "# And all methods of the class are available to us\n",
    "q.draw()\n",
    "q.move()"
   ]
  },
  {
   "attachments": {},
   "cell_type": "markdown",
   "metadata": {},
   "source": [
    "An abstract method can be implemented immediately in an abstract class, but the abstractmethod decorator obliges the child class to implement its own version of the method, or to supplement the existing one."
   ]
  },
  {
   "cell_type": "code",
   "execution_count": 3,
   "metadata": {},
   "outputs": [
    {
     "name": "stdout",
     "output_type": "stream",
     "text": [
      "Hello from Basic class\n",
      "Enriched functionality\n"
     ]
    }
   ],
   "source": [
    "from abc import ABC, abstractmethod\n",
    "class Basic(ABC):\n",
    "    @abstractmethod\n",
    "    def hello(self):\n",
    "        print(\"Hello from Basic class\")\n",
    "\n",
    "class Advanced(Basic):\n",
    "    def hello(self):\n",
    "        super().hello()\n",
    "        print(\"Enriched functionality\")\n",
    "\n",
    "a = Advanced()\n",
    "a.hello()"
   ]
  },
  {
   "attachments": {},
   "cell_type": "markdown",
   "metadata": {},
   "source": [
    "Thus, using the concept of abstract classes, we can improve the architecture of the application, reduce the amount of work, and at the same time, simplify the further maintenance of the code."
   ]
  }
 ],
 "metadata": {
  "kernelspec": {
   "display_name": "Python 3",
   "language": "python",
   "name": "python3"
  },
  "language_info": {
   "codemirror_mode": {
    "name": "ipython",
    "version": 3
   },
   "file_extension": ".py",
   "mimetype": "text/x-python",
   "name": "python",
   "nbconvert_exporter": "python",
   "pygments_lexer": "ipython3",
   "version": "3.9.13"
  },
  "orig_nbformat": 4,
  "vscode": {
   "interpreter": {
    "hash": "bedf3b64920aa7e1c49377a911937112f9a54cf7a67efed16c9a0f6b95a532e2"
   }
  }
 },
 "nbformat": 4,
 "nbformat_minor": 2
}
