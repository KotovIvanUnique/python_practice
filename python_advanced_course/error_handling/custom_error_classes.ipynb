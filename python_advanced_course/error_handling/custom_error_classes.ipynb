{
 "cells": [
  {
   "attachments": {},
   "cell_type": "markdown",
   "metadata": {},
   "source": [
    "# Custom Error Classes"
   ]
  },
  {
   "attachments": {},
   "cell_type": "markdown",
   "metadata": {},
   "source": [
    "Python has a large number of built-in exception classes which are usually sufficient for development. But during work, it often becomes necessary to catch an exceptional situation that is specific to a particular project. To do this, you can create your own exception class:"
   ]
  },
  {
   "cell_type": "code",
   "execution_count": 1,
   "metadata": {},
   "outputs": [],
   "source": [
    "class MyExceptionClass(Exception):\n",
    "    def __init__(self, text):\n",
    "        self.txt = text"
   ]
  },
  {
   "attachments": {},
   "cell_type": "markdown",
   "metadata": {},
   "source": [
    "In order to define your own exceptions, it is necessary that they directly or indirectly inherit from the Exception class."
   ]
  },
  {
   "cell_type": "code",
   "execution_count": 4,
   "metadata": {},
   "outputs": [
    {
     "name": "stdout",
     "output_type": "stream",
     "text": [
      "this is custom Exception\n"
     ]
    }
   ],
   "source": [
    "class MyExceptionClass(Exception):\n",
    "    def __init__(self, text):\n",
    "        self.txt = text\n",
    "x = 10\n",
    "try:\n",
    "    if x == 10:\n",
    "        raise MyExceptionClass(\"this is custom Exception\")\n",
    "except MyExceptionClass as mec:\n",
    "    print(mec)"
   ]
  },
  {
   "attachments": {},
   "cell_type": "markdown",
   "metadata": {},
   "source": [
    "In this example, we are raising the actual exception with raise and catching with try-except. Since the \\_\\_str\\_\\_() method is overridden inside the Exception class, therefore, in the try-except block, we can print the class object via print(), rather than accessing the txt variable."
   ]
  }
 ],
 "metadata": {
  "kernelspec": {
   "display_name": "Python 3",
   "language": "python",
   "name": "python3"
  },
  "language_info": {
   "codemirror_mode": {
    "name": "ipython",
    "version": 3
   },
   "file_extension": ".py",
   "mimetype": "text/x-python",
   "name": "python",
   "nbconvert_exporter": "python",
   "pygments_lexer": "ipython3",
   "version": "3.9.13"
  },
  "orig_nbformat": 4,
  "vscode": {
   "interpreter": {
    "hash": "bedf3b64920aa7e1c49377a911937112f9a54cf7a67efed16c9a0f6b95a532e2"
   }
  }
 },
 "nbformat": 4,
 "nbformat_minor": 2
}
