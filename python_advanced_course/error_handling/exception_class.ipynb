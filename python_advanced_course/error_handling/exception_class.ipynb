{
 "cells": [
  {
   "attachments": {},
   "cell_type": "markdown",
   "metadata": {},
   "source": [
    "# Exception class, main types of errors"
   ]
  },
  {
   "attachments": {},
   "cell_type": "markdown",
   "metadata": {},
   "source": [
    "### Exception"
   ]
  },
  {
   "attachments": {},
   "cell_type": "markdown",
   "metadata": {},
   "source": [
    "Errors during the execution of a program in Python are usually called an exception or an exception.\n",
    "\n",
    "Such situations are characterized by incorrect logic of the program and indicate that not all possible situations are processed correctly."
   ]
  },
  {
   "cell_type": "code",
   "execution_count": 1,
   "metadata": {},
   "outputs": [
    {
     "ename": "ZeroDivisionError",
     "evalue": "division by zero",
     "output_type": "error",
     "traceback": [
      "\u001b[1;31m---------------------------------------------------------------------------\u001b[0m",
      "\u001b[1;31mZeroDivisionError\u001b[0m                         Traceback (most recent call last)",
      "Cell \u001b[1;32mIn[1], line 1\u001b[0m\n\u001b[1;32m----> 1\u001b[0m \u001b[39mprint\u001b[39m(\u001b[39m0\u001b[39;49m \u001b[39m/\u001b[39;49m \u001b[39m0\u001b[39;49m)\n",
      "\u001b[1;31mZeroDivisionError\u001b[0m: division by zero"
     ]
    }
   ],
   "source": [
    "print(0 / 0)"
   ]
  },
  {
   "attachments": {},
   "cell_type": "markdown",
   "metadata": {},
   "source": [
    "This is a division by 0, which leads to a very obvious exception. If there were a variable instead of zero in the denominator, this would tell the developer to add a check for this boundary condition.\n",
    "\n",
    "But not only Python can throw exceptions while the program is running, the developer can throw his own exception using the raise keyword:"
   ]
  },
  {
   "cell_type": "code",
   "execution_count": 2,
   "metadata": {},
   "outputs": [
    {
     "ename": "Exception",
     "evalue": "x should not exceed 5. The value of x was: 10",
     "output_type": "error",
     "traceback": [
      "\u001b[1;31m---------------------------------------------------------------------------\u001b[0m",
      "\u001b[1;31mException\u001b[0m                                 Traceback (most recent call last)",
      "Cell \u001b[1;32mIn[2], line 3\u001b[0m\n\u001b[0;32m      1\u001b[0m x \u001b[39m=\u001b[39m \u001b[39m10\u001b[39m\n\u001b[0;32m      2\u001b[0m \u001b[39mif\u001b[39;00m x \u001b[39m>\u001b[39m \u001b[39m5\u001b[39m:\n\u001b[1;32m----> 3\u001b[0m     \u001b[39mraise\u001b[39;00m \u001b[39mException\u001b[39;00m(\u001b[39m'\u001b[39m\u001b[39mx should not exceed 5. The value of x was: \u001b[39m\u001b[39m{}\u001b[39;00m\u001b[39m'\u001b[39m\u001b[39m.\u001b[39mformat(x))\n",
      "\u001b[1;31mException\u001b[0m: x should not exceed 5. The value of x was: 10"
     ]
    }
   ],
   "source": [
    "x = 10\n",
    "if x > 5:\n",
    "    raise Exception('x should not exceed 5. The value of x was: {}'.format(x))"
   ]
  },
  {
   "attachments": {},
   "cell_type": "markdown",
   "metadata": {},
   "source": [
    "The raise does not have to be followed by the exception class, but this is a common practice as allows you to more accurately describe the exception in the system.\n",
    "\n",
    "In Python, the base class for exceptions is the BaseException class."
   ]
  },
  {
   "cell_type": "code",
   "execution_count": null,
   "metadata": {},
   "outputs": [],
   "source": [
    "BaseException\n",
    " +-- SystemExit\n",
    " +-- KeyboardInterrupt\n",
    " +-- GeneratorExit\n",
    " +-- Exception\n",
    "      +-- StopIteration\n",
    "      +-- StopAsyncIteration\n",
    "      ...\n",
    "      +-- Warning"
   ]
  },
  {
   "attachments": {},
   "cell_type": "markdown",
   "metadata": {},
   "source": [
    "- SystemExit is the exception thrown by the sys.exit() function when the program exits.\n",
    "\n",
    "- KeyboardInterrupt - interrupting the program by the user (usually using Ctrl + C).\n",
    "\n",
    "- GeneratorExit is fired when the close() method of the generator object is called.\n",
    "\n",
    "- Exception is the base class for non-system exceptions (SystemExit, KeyboardInterrupt, GeneratorExit).\n",
    "\n",
    "Also, a custom class must be inherited from this class when creating your own exception class."
   ]
  },
  {
   "attachments": {},
   "cell_type": "markdown",
   "metadata": {},
   "source": [
    "### Keywords try, except"
   ]
  },
  {
   "attachments": {},
   "cell_type": "markdown",
   "metadata": {},
   "source": [
    "These keywords form blocks within which exceptions of certain types are caught.\n",
    "\n",
    "Inside try is the “normal” program logic, inside except is what needs to be done if an exception occurs, for example: logging, writing to the database, terminating work, etc."
   ]
  },
  {
   "cell_type": "code",
   "execution_count": 4,
   "metadata": {},
   "outputs": [
    {
     "name": "stdout",
     "output_type": "stream",
     "text": [
      "Ooops y is zero\n"
     ]
    }
   ],
   "source": [
    "x = 1\n",
    "y = 0\n",
    "try: \n",
    "    print( x / y)\n",
    "except ZeroDivisionError:\n",
    "    print(\"Ooops y is zero\")"
   ]
  },
  {
   "attachments": {},
   "cell_type": "markdown",
   "metadata": {},
   "source": [
    "It is good practice to explicitly use exception classes, in our case ZeroDivisionError.\n",
    "\n",
    "But the exception class parameter is not optional. If it is omitted, then the try-except block will catch all exceptions thrown in the code, that is, it will take the Exception class by default."
   ]
  },
  {
   "cell_type": "code",
   "execution_count": 5,
   "metadata": {},
   "outputs": [
    {
     "name": "stdout",
     "output_type": "stream",
     "text": [
      "I catch all\n"
     ]
    }
   ],
   "source": [
    "try: \n",
    "    print( x / y)\n",
    "except:\n",
    "    print(\"I catch all\")"
   ]
  },
  {
   "attachments": {},
   "cell_type": "markdown",
   "metadata": {},
   "source": [
    "You can also use several exception classes:"
   ]
  },
  {
   "cell_type": "code",
   "execution_count": null,
   "metadata": {},
   "outputs": [],
   "source": [
    "try: \n",
    "    print( x / y)\n",
    "except ZeroDivisionError, ValueError, NumberError:\n",
    "    print(\"Ooops y is zero\")"
   ]
  },
  {
   "attachments": {},
   "cell_type": "markdown",
   "metadata": {},
   "source": [
    "These classes can be comma-separated, but usually use multiple except blocks to respond uniquely to each exception class."
   ]
  },
  {
   "cell_type": "code",
   "execution_count": null,
   "metadata": {},
   "outputs": [],
   "source": [
    "try: \n",
    "    print( x / y)\n",
    "except ZeroDivisionError:\n",
    "    print(\"Ooops y is ZeroDivisionError\")\n",
    "except ValueError:\n",
    "    print(\"Ooops y is ValueError\")\n",
    "except NumberError:\n",
    "    print(\"Ooops y is NumberError\")"
   ]
  },
  {
   "attachments": {},
   "cell_type": "markdown",
   "metadata": {},
   "source": [
    "When an exception occurs, except blocks are checked from top to bottom.\n",
    "\n",
    "A feature of the try block is that the code is executed only until the first exception."
   ]
  },
  {
   "cell_type": "code",
   "execution_count": null,
   "metadata": {},
   "outputs": [],
   "source": [
    "try: \n",
    "    print( x / y)\n",
    "    raise ValueError\n",
    "except ZeroDivisionError:\n",
    "    print(\"Ooops y is ZeroDivisionError\")\n",
    "except ValueError:\n",
    "    print(\"Ooops y is ValueError\")\n",
    "except NumberError:\n",
    "    print(\"Ooops y is NumberError\")"
   ]
  },
  {
   "attachments": {},
   "cell_type": "markdown",
   "metadata": {},
   "source": [
    "This means that it is better to wrap only the code in which an exception can occur in a try-except construct, ideally a single line.\n",
    "\n",
    "It is also bad practice to use the pass keyword inside the except block, because in essence, it is error suppression, which leads to uncontrolled behavior in the program."
   ]
  },
  {
   "attachments": {},
   "cell_type": "markdown",
   "metadata": {},
   "source": [
    "### else keyword in try-except block"
   ]
  },
  {
   "attachments": {},
   "cell_type": "markdown",
   "metadata": {},
   "source": [
    "If you need to perform some additional logic if the exception did not occur, then you can use the else keyword in the try-except construct."
   ]
  },
  {
   "cell_type": "code",
   "execution_count": 8,
   "metadata": {},
   "outputs": [
    {
     "name": "stdout",
     "output_type": "stream",
     "text": [
      "0.5\n",
      "No error\n"
     ]
    }
   ],
   "source": [
    "try: \n",
    "    print( x / 2)\n",
    "except ZeroDivisionError:\n",
    "    print(\"Ooops y is ZeroDivisionError\")\n",
    "else:\n",
    "    print(\"No error\")"
   ]
  },
  {
   "attachments": {},
   "cell_type": "markdown",
   "metadata": {},
   "source": [
    "### finally keyword in try-except block"
   ]
  },
  {
   "attachments": {},
   "cell_type": "markdown",
   "metadata": {},
   "source": [
    "It is often necessary to execute the code in any case when an exception occurred or not, for example, close the connection to the database, close the file if an exception occurred during its processing. For such cases, the finally keyword is provided."
   ]
  },
  {
   "cell_type": "code",
   "execution_count": 9,
   "metadata": {},
   "outputs": [
    {
     "name": "stdout",
     "output_type": "stream",
     "text": [
      "Ooops y is ZeroDivisionError\n",
      "its code always run\n"
     ]
    }
   ],
   "source": [
    "try: \n",
    "    print( x / y)\n",
    "except ZeroDivisionError:\n",
    "    print(\"Ooops y is ZeroDivisionError\")\n",
    "else:\n",
    "    print(\"No error\")\n",
    "finally:\n",
    "    print(\"its code always run\")"
   ]
  },
  {
   "attachments": {},
   "cell_type": "markdown",
   "metadata": {},
   "source": [
    "The else and finally words, unlike try-except, are optional and their use is at the discretion of the developer."
   ]
  }
 ],
 "metadata": {
  "kernelspec": {
   "display_name": "Python 3",
   "language": "python",
   "name": "python3"
  },
  "language_info": {
   "codemirror_mode": {
    "name": "ipython",
    "version": 3
   },
   "file_extension": ".py",
   "mimetype": "text/x-python",
   "name": "python",
   "nbconvert_exporter": "python",
   "pygments_lexer": "ipython3",
   "version": "3.9.13"
  },
  "orig_nbformat": 4,
  "vscode": {
   "interpreter": {
    "hash": "bedf3b64920aa7e1c49377a911937112f9a54cf7a67efed16c9a0f6b95a532e2"
   }
  }
 },
 "nbformat": 4,
 "nbformat_minor": 2
}
