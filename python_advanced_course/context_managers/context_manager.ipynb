{
 "cells": [
  {
   "attachments": {},
   "cell_type": "markdown",
   "metadata": {},
   "source": [
    "# Context manager"
   ]
  },
  {
   "attachments": {},
   "cell_type": "markdown",
   "metadata": {},
   "source": [
    "Each developer in the course of their work had to use files for reading / writing, working with sockets or an http connection. It usually looks like this:"
   ]
  },
  {
   "cell_type": "code",
   "execution_count": null,
   "metadata": {},
   "outputs": [],
   "source": [
    "f = open(\"file.txt\", \"r\")\n",
    "data = f.read()\n",
    "f.close()"
   ]
  },
  {
   "attachments": {},
   "cell_type": "markdown",
   "metadata": {},
   "source": [
    "To simplify the code, when you need to “open” something, produce logic, “close”, syntactic sugar has been implemented in Python - context managers.\n",
    "\n",
    "A context manager in Python is a class object that implements the \\_\\_enter\\_\\_() and \\_\\_exit\\_\\_() magic methods internally, thanks to which the object can be used with the with statement.\n",
    "\n",
    "When the program execution reaches the place with the with statement, the \\_\\_enter\\_\\_() method of the object is called, usually it implements the logic of connecting to the database, opening a connection, etc., then the code inside the with block is executed, and at the end the \\_\\_exit\\_\\_() block.\n",
    "\n",
    "This is how opening a file using the context manager and the with statement looks like:"
   ]
  },
  {
   "cell_type": "code",
   "execution_count": null,
   "metadata": {},
   "outputs": [],
   "source": [
    "with open(path, 'w') as f_obj:\n",
    "    f_obj.write(some_data)"
   ]
  },
  {
   "attachments": {},
   "cell_type": "markdown",
   "metadata": {},
   "source": [
    "You can add context manager behavior to a class by implementing the \\_\\_enter\\_\\_() and \\_\\_exit\\_\\_() methods. Consider a class for connecting to a database:"
   ]
  },
  {
   "cell_type": "code",
   "execution_count": 2,
   "metadata": {},
   "outputs": [],
   "source": [
    "import sqlite3\n",
    "class DataConn:\n",
    "     def __init__(self, db_name):\n",
    "         \"\"\"Constructor\"\"\"\n",
    "         self.db_name = db_name\n",
    "     def __enter__(self):\n",
    "         \"\"\"\n",
    "         Open a connection to the database.\n",
    "         \"\"\"\n",
    "         self.conn = sqlite3.connect(self.db_name)\n",
    "         return self.conn\n",
    "     def __exit__(self, exc_type, exc_val, exc_tb):\n",
    "         \"\"\"\n",
    "         We close the connection.\n",
    "         \"\"\"\n",
    "         self.conn.close()\n",
    "         if exc_val:\n",
    "             raise"
   ]
  },
  {
   "attachments": {},
   "cell_type": "markdown",
   "metadata": {},
   "source": [
    "The \\_\\_exit\\_\\_() method, unlike \\_\\_enter\\_\\_() , takes three arguments - the error class type, the error value, and the error trace. These arguments will be None if there are no errors inside the with block.\n",
    "\n",
    "If \\_\\_exit\\_\\_() returns True, then in case of an error inside the with block, it will not propagate further. If it returns False, then the error will propagate further, this property can be flexibly used for cases where the error that has occurred is critical for this system."
   ]
  }
 ],
 "metadata": {
  "kernelspec": {
   "display_name": "Python 3",
   "language": "python",
   "name": "python3"
  },
  "language_info": {
   "codemirror_mode": {
    "name": "ipython",
    "version": 3
   },
   "file_extension": ".py",
   "mimetype": "text/x-python",
   "name": "python",
   "nbconvert_exporter": "python",
   "pygments_lexer": "ipython3",
   "version": "3.9.13"
  },
  "orig_nbformat": 4,
  "vscode": {
   "interpreter": {
    "hash": "bedf3b64920aa7e1c49377a911937112f9a54cf7a67efed16c9a0f6b95a532e2"
   }
  }
 },
 "nbformat": 4,
 "nbformat_minor": 2
}
