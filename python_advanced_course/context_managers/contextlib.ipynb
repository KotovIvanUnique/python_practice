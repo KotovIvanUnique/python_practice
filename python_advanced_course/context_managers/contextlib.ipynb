{
 "cells": [
  {
   "attachments": {},
   "cell_type": "markdown",
   "metadata": {},
   "source": [
    "# contextlib module"
   ]
  },
  {
   "attachments": {},
   "cell_type": "markdown",
   "metadata": {},
   "source": [
    "In Python, you can create context managers not only using the __enter__() and __exit__() magic methods, but also using the contextlib module.\n",
    "\n",
    "This module carries the contextmanager decorator, which brings the behavior of the context manager to the function."
   ]
  },
  {
   "cell_type": "code",
   "execution_count": 1,
   "metadata": {},
   "outputs": [],
   "source": [
    "from contextlib import contextmanager\n",
    "\n",
    "@contextmanager\n",
    "def file_open(path):\n",
    "    try:\n",
    "        file = open(path, 'w')\n",
    "        yield file\n",
    "    except Exception:\n",
    "        print(\"Error!\")\n",
    "    finally:\n",
    "        print('Closing file')\n",
    "        file.close()"
   ]
  },
  {
   "attachments": {},
   "cell_type": "markdown",
   "metadata": {},
   "source": [
    "The key feature here is the logical division of the user function into stages.\n",
    "\n",
    "The first stage: before the yield statement comes logic similar to the logic inside the __enter__() method, which would need to be implemented inside the class.\n",
    "\n",
    "Second step: The yield statement returns the desired object, which is used inside the with block.\n",
    "\n",
    "The third stage: after the execution of the with block, the stage of resource cleanup and error handling follows."
   ]
  }
 ],
 "metadata": {
  "kernelspec": {
   "display_name": "Python 3",
   "language": "python",
   "name": "python3"
  },
  "language_info": {
   "codemirror_mode": {
    "name": "ipython",
    "version": 3
   },
   "file_extension": ".py",
   "mimetype": "text/x-python",
   "name": "python",
   "nbconvert_exporter": "python",
   "pygments_lexer": "ipython3",
   "version": "3.9.13"
  },
  "orig_nbformat": 4,
  "vscode": {
   "interpreter": {
    "hash": "bedf3b64920aa7e1c49377a911937112f9a54cf7a67efed16c9a0f6b95a532e2"
   }
  }
 },
 "nbformat": 4,
 "nbformat_minor": 2
}
