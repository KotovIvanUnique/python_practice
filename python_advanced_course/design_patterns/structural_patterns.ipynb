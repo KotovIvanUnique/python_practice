{
 "cells": [
  {
   "attachments": {},
   "cell_type": "markdown",
   "metadata": {},
   "source": [
    "# Structural patterns"
   ]
  },
  {
   "attachments": {},
   "cell_type": "markdown",
   "metadata": {},
   "source": [
    "A Decorator is a pattern that allows you to add new functionality to objects by wrapping them around.\n",
    "\n",
    "Fortunately for Python developers, this pattern is built in by default.\n",
    "\n",
    "More details about working with decorators can be found in the \"Functions\" module. Here we will once again give an example of working with decorators in Python."
   ]
  },
  {
   "cell_type": "code",
   "execution_count": 1,
   "metadata": {},
   "outputs": [],
   "source": [
    "def func_time_decorator(func):\n",
    "    import time\n",
    "    def wrapper(*args, **kwargs):\n",
    "        start = time.time()\n",
    "        return_value = func(*args, **kwargs)\n",
    "        end = time.time()\n",
    "        print('[*] Время выполнения: {} секунд.'.format(end-start))\n",
    "        return return_value\n",
    "    return wrapper"
   ]
  },
  {
   "attachments": {},
   "cell_type": "markdown",
   "metadata": {},
   "source": [
    "Facade is a template that provides an interface to a complex system of classes, third-party libraries, and frameworks.\n",
    "\n",
    "Example: connecting the new functionality of the Prometeus (for monitoring), Jaeger (for tracing) libraries is conveniently done using classes that isolate the call and work with this library, separating it from the classes of the system being developed."
   ]
  },
  {
   "cell_type": "code",
   "execution_count": 2,
   "metadata": {},
   "outputs": [],
   "source": [
    "class FileAdapterFacade:\n",
    "     \"\"\"\n",
    "         Facade for file access that hides\n",
    "         the specific system where the files are located\n",
    "     \"\"\"\n",
    "     def __init__(self, subsystem) -> None:\n",
    "         self._file_system = subsystem\n",
    "     def get_file(self, file_name):\n",
    "         return self._file_system.get(file_name)\n",
    "\n",
    "class LocalStorager:\n",
    "     \"\"\"\n",
    "        Accessing files on disk\n",
    "     \"\"\"\n",
    "     def get_file(self, file_name):\n",
    "         pass\n",
    "\n",
    "class CephStorager:\n",
    "     \"\"\"\n",
    "         Access to files that are located remotely in the ceph bucket\n",
    "         This class can also implement\n",
    "         working with the library, connecting to ceph\n",
    "     \"\"\"\n",
    "     def get_file(self, file_name):\n",
    "         connector = self.connect()\n",
    "         connector.set_s3_mode()\n",
    "         connector.turn_off_ssl()\n",
    "         connector.establish()\n",
    "         file = connector.get_file(file_name)\n",
    "         return file"
   ]
  },
  {
   "attachments": {},
   "cell_type": "markdown",
   "metadata": {},
   "source": [
    "An adapter is a pattern that allows objects with different interfaces to work together.\n",
    "\n",
    "Example: often when developing several systems, it is necessary to develop an adapter system that connects several systems through it into a single one. Within one project, this can be a class that prepares data, and separate classes adapt it for sending via rest or kafka."
   ]
  },
  {
   "cell_type": "code",
   "execution_count": null,
   "metadata": {},
   "outputs": [],
   "source": [
    "# coding=utf-8\n",
    "import requests\n",
    "\n",
    "CORRELATION_ID = \"correlationId\" \n",
    "\n",
    "class HttpRequest:\n",
    "    def __init__(self, url):\n",
    "        self.url = url\n",
    "\n",
    "    def request(self, obj):\n",
    "        try:\n",
    "            if CORRELATION_ID not in obj.headers.keys():\n",
    "                raise AttributeError\n",
    "            else:\n",
    "                response = requests.get(\n",
    "                    self.url,\n",
    "                    params=obj.params,\n",
    "                    headers=obj.headers,\n",
    "                )\n",
    "                print(response)\n",
    "        except AttributeError:\n",
    "            print(\"not correlationId in headers\")\n",
    "\n",
    "class OldClass:\n",
    "    def __init__(self, headers, params):\n",
    "        self.headers = headers\n",
    "        self.params = params\n",
    "\n",
    "class OldClassHttpRequestAdapter:\n",
    "    def __init__(self, obj):\n",
    "        self.obj = obj\n",
    "    @property\n",
    "    def headers(self):\n",
    "        if CORRELATION_ID not in self.obj.headers.keys():\n",
    "            self.obj.headers[CORRELATION_ID] = \"1232-1112-3333\"\n",
    "        return self.obj.headers\n",
    "    @property\n",
    "    def params(self):\n",
    "        return self.obj.params\n",
    "\n",
    "http_request = HttpRequest(\"https://github.com\")\n",
    "old_class_obj = OldClass({\"test\":\"111\"}, {\"params1\":\"value1\"})\n",
    "adapter_obj = OldClassHttpRequestAdapter(old_class_obj)\n",
    "http_request.request(old_class_obj) \n",
    "http_request.request(adapter_obj)"
   ]
  },
  {
   "attachments": {},
   "cell_type": "markdown",
   "metadata": {},
   "source": [
    "A Composite is a template that allows you to group multiple objects into a tree and then work with it as if it were a single object.\n",
    "\n",
    "Example: when developing a program for Windows / Mac with a GUI, the graphical interface can be represented as a tree, which can be assembled into a single whole using a linker."
   ]
  },
  {
   "cell_type": "code",
   "execution_count": null,
   "metadata": {},
   "outputs": [],
   "source": [
    "from abc import ABC, abstractmethod\n",
    "\n",
    "class GUIAbstractComponent(ABC):\n",
    "     \"\"\"\n",
    "     The base class is an abstract GUI interface component.\n",
    "     \"\"\"\n",
    "     @property\n",
    "     def parent(self):\n",
    "         return self._parent\n",
    "     @parent.setter\n",
    "     def parent(self, parent):\n",
    "         self._parent = parent\n",
    "     def add(self, component):\n",
    "         pass\n",
    "     def remove(self, component):\n",
    "         pass\n",
    "     @abstractmethod\n",
    "     def action(self):\n",
    "         pass\n",
    "\n",
    "class Button(GUIAbstractComponent):\n",
    "     \"\"\"\n",
    "         Has no nested components, performs actions.\n",
    "     \"\"\"\n",
    "     def action(self):\n",
    "         return \"Button\"\n",
    "\n",
    "class EditBox(GUIAbstractComponent):\n",
    "    def action(self):\n",
    "        return \"Leaf\"\n",
    "\n",
    "class Window(GUIAbstractComponent):\n",
    "     \"\"\"\n",
    "         A container that contains simpler objects\n",
    "     \"\"\"\n",
    "     def __init__(self):\n",
    "         self._children = []\n",
    "     def add(self, component):\n",
    "         self._children.append(component)\n",
    "         component.parent = self\n",
    "     def remove(self, component):\n",
    "         self._children.remove(component)\n",
    "         component.parent = none\n",
    "     def is_composite(self):\n",
    "         return True\n",
    "     def action(self):\n",
    "         \"\"\"\n",
    "             The container walks over its children and causes them to\n",
    "             actions, summarizes and gives the result.\n",
    "             Thus, it is possible to organize redrawing\n",
    "             all components in the GUI.\n",
    "         \"\"\"\n",
    "         results = []\n",
    "         for child in self._children:\n",
    "             results.append(child.action())\n",
    "         return f\"Branch({'+'.join(results)})\"\n",
    "\n",
    "if __name__ == \"__main__\":\n",
    "     window = Window()\n",
    "     window.add(Button())\n",
    "     window.add(EditBox())"
   ]
  },
  {
   "attachments": {},
   "cell_type": "markdown",
   "metadata": {},
   "source": [
    "Proxy is a template that allows you to pass \"proxies\" instead of real objects, which allow you to intercept the call and perform an action before and after the call.\n",
    "\n",
    "Example: you are using a library that has implemented access to some resource on your network, but it does not check for the availability of this resource. Instead of rewriting your code, you can replace the class object from the library with your own proxy class that implements the same method, but first checks the availability of the resource on the network on its own."
   ]
  },
  {
   "cell_type": "code",
   "execution_count": 4,
   "metadata": {},
   "outputs": [],
   "source": [
    "class LocalWeb():\n",
    "     def request(self):\n",
    "         print(\"request to localweb\")\n",
    "\n",
    "class Proxy(LocalWeb):\n",
    "     \"\"\"\n",
    "         Inherited from a class from the library\n",
    "     \"\"\"\n",
    "     def __init__(self, local_web):\n",
    "         self._local_web = local_web\n",
    "     def request(self):\n",
    "         if self.check_access():\n",
    "             self._local_web.request()\n",
    "     def check_access(self) -> bool:\n",
    "         return True"
   ]
  }
 ],
 "metadata": {
  "kernelspec": {
   "display_name": "Python 3",
   "language": "python",
   "name": "python3"
  },
  "language_info": {
   "codemirror_mode": {
    "name": "ipython",
    "version": 3
   },
   "file_extension": ".py",
   "mimetype": "text/x-python",
   "name": "python",
   "nbconvert_exporter": "python",
   "pygments_lexer": "ipython3",
   "version": "3.9.13"
  },
  "orig_nbformat": 4,
  "vscode": {
   "interpreter": {
    "hash": "bedf3b64920aa7e1c49377a911937112f9a54cf7a67efed16c9a0f6b95a532e2"
   }
  }
 },
 "nbformat": 4,
 "nbformat_minor": 2
}
