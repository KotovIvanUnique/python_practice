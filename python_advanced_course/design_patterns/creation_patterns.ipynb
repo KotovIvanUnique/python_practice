{
 "cells": [
  {
   "attachments": {},
   "cell_type": "markdown",
   "metadata": {},
   "source": [
    "# Creation patterns"
   ]
  },
  {
   "attachments": {},
   "cell_type": "markdown",
   "metadata": {},
   "source": [
    "A Singleton is a pattern that guarantees a single class object and provides a global access point to it.\n",
    "\n",
    "One of the most famous patterns, which must be used with caution, because. a lot of connected singles in the project cause strong cohesion in the code, complicate writing unit tests, future refactoring.\n",
    "\n",
    "Example: A single database connection in a project when using multithreading."
   ]
  },
  {
   "cell_type": "code",
   "execution_count": 1,
   "metadata": {},
   "outputs": [],
   "source": [
    "from __future__ import annotations\n",
    "from typing import Optional\n",
    "\n",
    "class SingletonMeta(type):\n",
    "    _instance = None\n",
    "    def __call__(self):\n",
    "        if self._instance is None:\n",
    "            self._instance = super().__call__()\n",
    "        return self._instance\n",
    "\n",
    "class Singleton(metaclass=SingletonMeta):\n",
    "    def some_logic(self):\n",
    "        pass"
   ]
  },
  {
   "attachments": {},
   "cell_type": "markdown",
   "metadata": {},
   "source": [
    "An Abstract Factory is a pattern that allows you to create a family of related objects by decoupling from classes of concrete objects.\n",
    "\n",
    "Example: when designing an online store, there are categories, and they already have specific options. In this case, the abstract factory allows you to describe the creation of categories, and category objects, in turn, will create specific products."
   ]
  },
  {
   "cell_type": "code",
   "execution_count": 2,
   "metadata": {},
   "outputs": [
    {
     "ename": "NameError",
     "evalue": "name 'some_business_logic' is not defined",
     "output_type": "error",
     "traceback": [
      "\u001b[1;31m---------------------------------------------------------------------------\u001b[0m",
      "\u001b[1;31mNameError\u001b[0m                                 Traceback (most recent call last)",
      "Cell \u001b[1;32mIn[2], line 69\u001b[0m\n\u001b[0;32m     66\u001b[0m          \u001b[39mprint\u001b[39m(provider\u001b[39m.\u001b[39mcountry_list())\n\u001b[0;32m     68\u001b[0m \u001b[39mif\u001b[39;00m \u001b[39m__name__\u001b[39m \u001b[39m==\u001b[39m \u001b[39m\"\u001b[39m\u001b[39m__main__\u001b[39m\u001b[39m\"\u001b[39m:\n\u001b[1;32m---> 69\u001b[0m      some_business_logic(TeaFactory())\n\u001b[0;32m     70\u001b[0m      some_business_logic(CoffeeFactory())\n",
      "\u001b[1;31mNameError\u001b[0m: name 'some_business_logic' is not defined"
     ]
    }
   ],
   "source": [
    "from __future__ import annotations\n",
    "from abc import ABC, abstractmethod\n",
    "\n",
    "class AbstractFactory(ABC):\n",
    "     \"\"\"\n",
    "     The Abstract Factory interface declares a set of methods,\n",
    "     which return various abstract products\n",
    "     \"\"\"\n",
    "     @abstractmethod\n",
    "     def create_product(self):\n",
    "         pass\n",
    "     @abstractmethod\n",
    "     def create_provider(self):\n",
    "         pass\n",
    "\n",
    "class TeaFactory(AbstractFactory):\n",
    "     \"\"\"\n",
    "     Concrete Factory that creates tea objects\n",
    "     \"\"\"\n",
    "     def create_product(self):\n",
    "         return TeaProduct()\n",
    "     def create_provider(self):\n",
    "         return TeaProvider()\n",
    "\n",
    "class CoffeeFactory(AbstractFactory):\n",
    "     \"\"\"\n",
    "     Concrete Factory that creates coffee objects\n",
    "     \"\"\"\n",
    "     def create_product(self):\n",
    "         return CoffeeProduct()\n",
    "     def create_provider(self):\n",
    "         return TeaProvider()\n",
    "\n",
    "class AbstractProduct(ABC):\n",
    "     \"\"\"\n",
    "     Each individual product of the online store\n",
    "     \"\"\"\n",
    "     @abstractmethod\n",
    "     def some_function(self):\n",
    "         pass\n",
    "\n",
    "class TeaProduct(AbstractProduct):\n",
    "     def some_function(self):\n",
    "         return \"I am tea\"\n",
    "\n",
    "class CoffeeProduct(AbstractProduct):\n",
    "     def some_function(self):\n",
    "         return \"I am coffee\"\n",
    "\n",
    "class AbstractProvider(ABC):\n",
    "     \"\"\"\n",
    "     Each individual product of the online store\n",
    "     \"\"\"\n",
    "     @abstractmethod\n",
    "     def country_list(self):\n",
    "         pass\n",
    "\n",
    "class CoffeeProvider(AbstractProvider):\n",
    "     def country_list(self):\n",
    "         return [\"Brazil\",\"Kenya\"]\n",
    "\n",
    "     def some_business_logic():\n",
    "         product = factory.create_product()\n",
    "         provider = factory.create_provider()\n",
    "         print(product.some_function())\n",
    "         print(provider.country_list())\n",
    "\n",
    "if __name__ == \"__main__\":\n",
    "     some_business_logic(TeaFactory())\n",
    "     some_business_logic(CoffeeFactory())"
   ]
  },
  {
   "attachments": {},
   "cell_type": "markdown",
   "metadata": {},
   "source": [
    "Builder is a template that allows you to create complex objects step by step.\n",
    "\n",
    "Example: When developing software for a construction company, you may need to create a prototype of a house. You need to choose the material of the hull, foundations, wall colors, etc. Let's get an object of type house, which consists of a set of smaller objects. To more flexibly control the process of creating a house object, you can separate it into a separate HouseBuilder class."
   ]
  },
  {
   "cell_type": "code",
   "execution_count": 3,
   "metadata": {},
   "outputs": [],
   "source": [
    "from abc import ABC, abstractmethod, abstractproperty\n",
    "\n",
    "class AbstractBuilder(ABC):\n",
    "     \"\"\"\n",
    "         Abstract builder class\n",
    "     \"\"\"\n",
    "     @abstractproperty\n",
    "     def product(self):\n",
    "         pass\n",
    "     @abstractmethod\n",
    "     def build_part_1(self):\n",
    "         pass\n",
    "     @abstractmethod\n",
    "     def build_part_2(self):\n",
    "         pass\n",
    "     @abstractmethod\n",
    "     def build_part_3(self):\n",
    "         pass\n",
    "\n",
    "class HouseBuilder(AbstractBuilder):\n",
    "     def __init__(self):\n",
    "         self.reset()\n",
    "     def reset(self):\n",
    "         self._house = House()\n",
    "     @property\n",
    "     def product(self):\n",
    "         # get an object instance\n",
    "         house = self._house\n",
    "         self.reset()\n",
    "         return house\n",
    "     def build_part_1(self):\n",
    "         self._house.add(\"Walls\")\n",
    "     def build_part_2(self):\n",
    "         self._house.add(\"Roof\")\n",
    "     def build_part_3(self) :\n",
    "         self._house.add(\"Flat\")\n",
    "\n",
    "class House():\n",
    "     def __init__(self):\n",
    "         self.parts = []\n",
    "     def add(self, part):\n",
    "         self.parts.append(part)\n",
    "     def list_parts(self) :\n",
    "         print(self.parts)\n",
    "\n",
    "class Director:\n",
    "     \"\"\"\n",
    "         An optional class that manages the construction phases.\n",
    "         Usually this functionality is sufficient to perform in other\n",
    "         classes/functions when an object needs to be created.\n",
    "         Applies if there are multiple builders that create\n",
    "         different complex objects united by a common logic.\n",
    "     \"\"\"\n",
    "     def __init__(self):\n",
    "         self._builder = None\n",
    "     @property\n",
    "     def builder(self):\n",
    "         return self._builder\n",
    "     @builder.setter\n",
    "     def builder(self, builder):\n",
    "         self._builder = builder\n",
    "     def build_product(self):\n",
    "         self.builder.build_part_1()\n",
    "         self.builder.build_part_2()\n",
    "         self.builder.build_part_3()"
   ]
  },
  {
   "attachments": {},
   "cell_type": "markdown",
   "metadata": {},
   "source": [
    "Factory (Factory) is a template that allows you to create objects of a class without exposing the logic of creating objects."
   ]
  },
  {
   "cell_type": "code",
   "execution_count": 4,
   "metadata": {},
   "outputs": [
    {
     "name": "stdout",
     "output_type": "stream",
     "text": [
      "I am simple worker\n",
      "DevOpsMan is here\n"
     ]
    }
   ],
   "source": [
    "from abc import ABCMeta, abstractmethod\n",
    "\n",
    "class Worker(metaclass=ABCMeta):\n",
    "    @abstractmethod\n",
    "    def who_i_am(self):\n",
    "        pass\n",
    "\n",
    "class SimpleWorker(Worker):\n",
    "    def who_i_am(self):\n",
    "        print('I am simple worker')\n",
    "\n",
    "class Developer(Worker):\n",
    "    def who_i_am(self):\n",
    "        print(\"Developer is here\")\n",
    "\n",
    "class DevOpsMan(Worker):\n",
    "    def who_i_am(self):\n",
    "        print(\"DevOpsMan is here\")\n",
    "\n",
    "class WorkersFactory:\n",
    "    registered_workers = {\n",
    "        None: SimpleWorker,\n",
    "        \"developer\": Developer,\n",
    "        \"dev_ops\": DevOpsMan\n",
    "    }\n",
    "    @classmethod\n",
    "    def create_worker(cls, worker_type=None):\n",
    "         worker_cls = cls.registered_workers[worker_type]\n",
    "         return worker_cls()\n",
    "\n",
    "if __name__ == \"__main__\":\n",
    "    w1 = WorkersFactory.create_worker()\n",
    "    w1.who_i_am()\n",
    "    w2 = WorkersFactory.create_worker(\"dev_ops\")\n",
    "    w2.who_i_am()"
   ]
  }
 ],
 "metadata": {
  "kernelspec": {
   "display_name": "Python 3",
   "language": "python",
   "name": "python3"
  },
  "language_info": {
   "codemirror_mode": {
    "name": "ipython",
    "version": 3
   },
   "file_extension": ".py",
   "mimetype": "text/x-python",
   "name": "python",
   "nbconvert_exporter": "python",
   "pygments_lexer": "ipython3",
   "version": "3.9.13"
  },
  "orig_nbformat": 4,
  "vscode": {
   "interpreter": {
    "hash": "bedf3b64920aa7e1c49377a911937112f9a54cf7a67efed16c9a0f6b95a532e2"
   }
  }
 },
 "nbformat": 4,
 "nbformat_minor": 2
}
