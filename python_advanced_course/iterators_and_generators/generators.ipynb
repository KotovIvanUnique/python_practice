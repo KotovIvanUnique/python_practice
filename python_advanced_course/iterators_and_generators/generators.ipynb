{
 "cells": [
  {
   "attachments": {},
   "cell_type": "markdown",
   "metadata": {},
   "source": [
    "# Generators"
   ]
  },
  {
   "attachments": {},
   "cell_type": "markdown",
   "metadata": {},
   "source": [
    "In Python, a generator can be called a language construct that is a function using the yield keyword inside, or a generator expression. Inside the generator, the __iter__() and __next__() methods are defined, from this point of view, in Python, any generator is an iterator. The difference lies in the fact that iterators are the iteration of the elements of the collection, and the generator is the creation, processing and return for further processing of the element.\n",
    "\n",
    "For example, the function range(start, stop, step) is a generator that creates a sequence of numbers with a certain step. At any given time, the developer only knows the current element, since only that element is stored in memory.\n",
    "\n",
    "In Python2, the range() function creates all the elements at once and returns them for iteration, that is, it is not a generator, but the xrange() function is already a generator and an analogue of the range() function from Python3."
   ]
  },
  {
   "attachments": {},
   "cell_type": "markdown",
   "metadata": {},
   "source": [
    "### yield statement"
   ]
  },
  {
   "attachments": {},
   "cell_type": "markdown",
   "metadata": {},
   "source": [
    "Any function in Python that has the keyword yield in its body is called a generator function - when called, it returns a generator object.\n",
    "\n",
    "The generator object implements the iterator interface, so you can work with this object like any other iterable object.\n",
    "\n",
    "The following example uses yield to create a generator object:"
   ]
  },
  {
   "cell_type": "code",
   "execution_count": 1,
   "metadata": {},
   "outputs": [
    {
     "name": "stdout",
     "output_type": "stream",
     "text": [
      "block 1\n",
      "1\n",
      "block 2\n",
      "2\n",
      "end\n"
     ]
    }
   ],
   "source": [
    "def gen_fun():\n",
    "    print('block 1')\n",
    "    yield 1\n",
    "    print('block 2')\n",
    "    yield 2\n",
    "    print('end')\n",
    "for i in gen_fun():\n",
    "    print(i)\n",
    "# block 1\n",
    "# 1\n",
    "# block 2\n",
    "# 2\n",
    "# end"
   ]
  },
  {
   "attachments": {},
   "cell_type": "markdown",
   "metadata": {},
   "source": [
    "First, a generator object is created, then for gets an iterator using iter, then next () is implicitly called in the loop, each time the function is called, the work of the function returns to the place where the last yield was called."
   ]
  }
 ],
 "metadata": {
  "kernelspec": {
   "display_name": "Python 3",
   "language": "python",
   "name": "python3"
  },
  "language_info": {
   "codemirror_mode": {
    "name": "ipython",
    "version": 3
   },
   "file_extension": ".py",
   "mimetype": "text/x-python",
   "name": "python",
   "nbconvert_exporter": "python",
   "pygments_lexer": "ipython3",
   "version": "3.9.13"
  },
  "orig_nbformat": 4,
  "vscode": {
   "interpreter": {
    "hash": "bedf3b64920aa7e1c49377a911937112f9a54cf7a67efed16c9a0f6b95a532e2"
   }
  }
 },
 "nbformat": 4,
 "nbformat_minor": 2
}
