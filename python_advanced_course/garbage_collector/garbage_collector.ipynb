{
 "cells": [
  {
   "attachments": {},
   "cell_type": "markdown",
   "metadata": {},
   "source": [
    "# How the garbage collector works"
   ]
  },
  {
   "attachments": {},
   "cell_type": "markdown",
   "metadata": {},
   "source": [
    "When developing a project in Python, the developer does not care about such things as allocating and freeing memory, which is typical for development in C ++ and C. As soon as the created objects are no longer needed, the garbage collector will automatically free the memory from under them.\n",
    "\n",
    "CPython (the standard Python interpreter) uses two garbage collection mechanisms - object reference counting and the generational garbage collector (the gc module in the Python standard library)."
   ]
  },
  {
   "attachments": {},
   "cell_type": "markdown",
   "metadata": {},
   "source": [
    "### Reference counting algorithm"
   ]
  },
  {
   "attachments": {},
   "cell_type": "markdown",
   "metadata": {},
   "source": [
    "As you know, in Python all variables are object references. Naturally, several variables can refer to one object."
   ]
  },
  {
   "cell_type": "code",
   "execution_count": null,
   "metadata": {},
   "outputs": [],
   "source": [
    "typedef struct _object {\n",
    "    _PyObject_HEAD_EXTRA\n",
    "    Py_ssize_t ob_refcnt;\n",
    "    PyTypeObject *ob_type;\n",
    "} PyObject;"
   ]
  },
  {
   "attachments": {},
   "cell_type": "markdown",
   "metadata": {},
   "source": [
    "This is how the CPython structure looks like, on the basis of which other, more complex CPython primitives are implemented. Here, ob_refcnt is a variable that is incremented each time a reference is created to this object.\n",
    "\n",
    "When that link goes down, naturally, the object's link count goes down.\n",
    "\n",
    "Every time the reference count goes to zero, the object's destruction mechanism is triggered, and the references that this object had to other objects are also removed, so the destruction of one object can lead to a wave of deletions of other objects.\n",
    "\n",
    "The main problem that the reference counting algorithm has is the inability to resolve circular dependencies. The generational garbage collector is designed to solve this problem.\n",
    "\n",
    "In Python, using the sys.getrefcount() function, you can always find out the number of references to an object."
   ]
  },
  {
   "cell_type": "code",
   "execution_count": 1,
   "metadata": {},
   "outputs": [
    {
     "name": "stdout",
     "output_type": "stream",
     "text": [
      "2\n",
      "3\n"
     ]
    }
   ],
   "source": [
    "import sys\n",
    "test_list = [1,2,3]\n",
    "print(sys.getrefcount(test_list))\n",
    "test_list_2 = test_list\n",
    "print(sys.getrefcount(test_list_2))"
   ]
  },
  {
   "attachments": {},
   "cell_type": "markdown",
   "metadata": {},
   "source": [
    "In the example, a list is created and referenced by test_list, the reference count is 1. When sys.getrefcount() is used, the reference count rises to 2. Then we create another variable test_list_2 and assign test_list to it, the reference count is 2, and again when getrefcount() is applied, it becomes 3.\n",
    "\n",
    "The sys.getrefcount() function usually returns one more reference count than expected.\n",
    "\n",
    "This is due to the creation of a temporary reference to the argument that is passed to the function."
   ]
  },
  {
   "attachments": {},
   "cell_type": "markdown",
   "metadata": {},
   "source": [
    "### Generational garbage collector (GC)"
   ]
  },
  {
   "attachments": {},
   "cell_type": "markdown",
   "metadata": {},
   "source": [
    "A circular reference is when one or more objects refer to each other."
   ]
  },
  {
   "cell_type": "code",
   "execution_count": 2,
   "metadata": {},
   "outputs": [],
   "source": [
    "a = []\n",
    "a.append(a)"
   ]
  },
  {
   "attachments": {},
   "cell_type": "markdown",
   "metadata": {},
   "source": [
    "Here the list refers to itself."
   ]
  },
  {
   "cell_type": "code",
   "execution_count": 3,
   "metadata": {},
   "outputs": [],
   "source": [
    "a = {}\n",
    "b = {}\n",
    "a[\"b\"] = b\n",
    "b[\"a\"] = a"
   ]
  },
  {
   "attachments": {},
   "cell_type": "markdown",
   "metadata": {},
   "source": [
    "Here the dictionaries refer to each other.\n",
    "\n",
    "If you call the del() method, then references to objects will be deleted. If there were no GC, then the objects would still hang in memory, although they would be inaccessible to the developer.\n",
    "\n",
    "Unlike reference counting, GC does not fire in real time and runs periodically. Built-in heuristics are used to determine the launch frequency.\n",
    "\n",
    "Generational means \"relating to a particular generation\" and, indeed, GC divides all objects into three generations. Initially, all objects are placed in the first generation, live there for a while and most of them are cleared, the rest is moved to the second generation and then to the third. The higher the generation, the less often it is scanned for garbage.\n",
    "\n",
    "To detect circular references, the GC iterates over each object in a generation and temporarily removes all references to which that object refers. After a complete crawl, all objects with a reference count less than two are considered unreachable and are removed.\n",
    "\n",
    "GC as a module gives the developer the ability to control the garbage collector for circular references."
   ]
  },
  {
   "cell_type": "code",
   "execution_count": 5,
   "metadata": {},
   "outputs": [
    {
     "data": {
      "text/plain": [
       "43"
      ]
     },
     "execution_count": 5,
     "metadata": {},
     "output_type": "execute_result"
    }
   ],
   "source": [
    "import gc\n",
    "gc.enable() # enable the garbage collector\n",
    "gc.disable() # Disable the garbage collector\n",
    "gc.collect(generation=2) # Explicitly initiates a garbage collector pass before it starts automatically"
   ]
  },
  {
   "attachments": {},
   "cell_type": "markdown",
   "metadata": {},
   "source": [
    "### Memory management"
   ]
  },
  {
   "attachments": {},
   "cell_type": "markdown",
   "metadata": {},
   "source": [
    "Python is a dynamic language, during which many objects are created. Some of them may contain other objects - lists, dictionaries, tuples.\n",
    "\n",
    "If a newly created object takes up more than 512 bytes in memory, then Python sends it to the standard C allocator.\n",
    "\n",
    "To optimize memory allocation for small objects less than 512 bytes in size, Python allocates large blocks of memory in advance, which are divided into three levels - arenas, pools, blocks.\n",
    "\n",
    "A block is a piece of memory of a certain size, each block contains only one Python object of a fixed size, a multiple of 8. The block size is from 8 to 512 bytes.\n",
    "\n",
    "A pool is a collection of blocks of the same size. Typically, the pool size is 4 KB. If an object is destroyed, then the memory it occupies is not returned to the operating system, but is saved for future objects of the same size.\n",
    "\n",
    "The pool and blocks do not allocate memory directly, but use the memory allocated by arenas.\n",
    "\n",
    "The arena is a 256 KB chunk of memory allocated from the operating system heap, which holds 64 pools.\n",
    "\n",
    "Schematically, the arena looks like this:"
   ]
  },
  {
   "cell_type": "code",
   "execution_count": null,
   "metadata": {},
   "outputs": [],
   "source": [
    "            Arena\n",
    "Pool(4kB)\tPool(4kB)\t    Pool(4kB)\n",
    "Pool(4kB)\tPool(4kB)\t    Pool(4kB)\n",
    "Pool(4kB)\tFreePool(4kB)\tFreePool(4kB)\n",
    "...\t        ...\t            ..."
   ]
  },
  {
   "attachments": {},
   "cell_type": "markdown",
   "metadata": {},
   "source": [
    "Due to the arrangement of the memory manager in Python, the release of operating system resources rarely occurs in practice. This is only possible if the arena contains 64 empty pools. For short operations, when you need to quickly perform calculations, this is possible. With long-lived processes, you can observe a large consumption of memory, which, in fact, is not used efficiently."
   ]
  }
 ],
 "metadata": {
  "kernelspec": {
   "display_name": "Python 3",
   "language": "python",
   "name": "python3"
  },
  "language_info": {
   "codemirror_mode": {
    "name": "ipython",
    "version": 3
   },
   "file_extension": ".py",
   "mimetype": "text/x-python",
   "name": "python",
   "nbconvert_exporter": "python",
   "pygments_lexer": "ipython3",
   "version": "3.9.13"
  },
  "orig_nbformat": 4,
  "vscode": {
   "interpreter": {
    "hash": "bedf3b64920aa7e1c49377a911937112f9a54cf7a67efed16c9a0f6b95a532e2"
   }
  }
 },
 "nbformat": 4,
 "nbformat_minor": 2
}
