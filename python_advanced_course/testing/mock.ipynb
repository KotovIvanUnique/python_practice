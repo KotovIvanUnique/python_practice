{
 "cells": [
  {
   "attachments": {},
   "cell_type": "markdown",
   "metadata": {},
   "source": [
    "# Mock module"
   ]
  },
  {
   "attachments": {},
   "cell_type": "markdown",
   "metadata": {},
   "source": [
    "High cohesion within program modules leads to difficulties when writing unit tests. The unittest.Mock class is designed to make life easier for developers.\n",
    "\n",
    "Mock is an object in testing that replaces the real object by mimicking its behavior.\n",
    "\n",
    "For example, when writing tests for a system that implements http requests to a real service, it would be advisable to use Mock objects as a result of a response to a specific request. Because a situation can easily occur when the test will not pass due to lack of connection to the server / the response returned in a different format, etc.\n",
    "\n",
    "To create a Mock object, you need:"
   ]
  },
  {
   "cell_type": "code",
   "execution_count": 1,
   "metadata": {},
   "outputs": [
    {
     "data": {
      "text/plain": [
       "<Mock id='2363897225808'>"
      ]
     },
     "execution_count": 1,
     "metadata": {},
     "output_type": "execute_result"
    }
   ],
   "source": [
    "from unittest.mock import Mock\n",
    "mock = Mock()\n",
    "mock"
   ]
  },
  {
   "attachments": {},
   "cell_type": "markdown",
   "metadata": {},
   "source": [
    "A feature of working with Mock is the creation of objects during the first call to them:"
   ]
  },
  {
   "cell_type": "code",
   "execution_count": 2,
   "metadata": {},
   "outputs": [
    {
     "data": {
      "text/plain": [
       "<Mock name='mock.some_attribute' id='2363897174816'>"
      ]
     },
     "execution_count": 2,
     "metadata": {},
     "output_type": "execute_result"
    }
   ],
   "source": [
    "mock.some_attribute"
   ]
  },
  {
   "cell_type": "code",
   "execution_count": 3,
   "metadata": {},
   "outputs": [
    {
     "data": {
      "text/plain": [
       "<Mock name='mock.do_something()' id='2363897372432'>"
      ]
     },
     "execution_count": 3,
     "metadata": {},
     "output_type": "execute_result"
    }
   ],
   "source": [
    "mock.do_something()"
   ]
  },
  {
   "attachments": {},
   "cell_type": "markdown",
   "metadata": {},
   "source": [
    "Inside the Mock, the history of the use of this object is stored."
   ]
  },
  {
   "cell_type": "code",
   "execution_count": 4,
   "metadata": {},
   "outputs": [
    {
     "data": {
      "text/plain": [
       "<Mock name='mock.loads()' id='2363897228256'>"
      ]
     },
     "execution_count": 4,
     "metadata": {},
     "output_type": "execute_result"
    }
   ],
   "source": [
    "from unittest.mock import Mock\n",
    "json = Mock()\n",
    "json.loads('{\"key\": \"value\"}')"
   ]
  },
  {
   "cell_type": "code",
   "execution_count": 5,
   "metadata": {},
   "outputs": [],
   "source": [
    "json.loads.assert_called()\n",
    "json.loads.assert_called_once()\n",
    "json.loads.assert_called_with('{\"key\": \"value\"}')\n",
    "json.loads.assert_called_once_with('{\"key\": \"value\"}')"
   ]
  },
  {
   "attachments": {},
   "cell_type": "markdown",
   "metadata": {},
   "source": [
    "assert_called() - The object has been called.\n",
    "\n",
    "assert_called_once() - The object has been called at least once.\n",
    "\n",
    "assert_called_with() - the object was called with such and such a value.\n",
    "\n",
    "assert_called_once_with() - the object was called at least once with such and such a value.\n",
    "\n",
    "Mock objects are also convenient because they allow you to pre-model the response to a call to a particular method, set the value of a variable. This means that in the example with the database in tests, in the setUp() method, you can create a Mock that emulates connecting to the database, executing queries and responses to it. This will ultimately allow you to abstract writing tests from the need to connect to the database, as well as from the specific features of various databases."
   ]
  },
  {
   "cell_type": "code",
   "execution_count": 6,
   "metadata": {},
   "outputs": [
    {
     "data": {
      "text/plain": [
       "<Mock name='Real Python Mock' id='2363897172608'>"
      ]
     },
     "execution_count": 6,
     "metadata": {},
     "output_type": "execute_result"
    }
   ],
   "source": [
    "mock = Mock(name='Real Python Mock')\n",
    "mock"
   ]
  },
  {
   "cell_type": "code",
   "execution_count": 7,
   "metadata": {},
   "outputs": [
    {
     "data": {
      "text/plain": [
       "True"
      ]
     },
     "execution_count": 7,
     "metadata": {},
     "output_type": "execute_result"
    }
   ],
   "source": [
    "mock = Mock(return_value=True)\n",
    "mock()"
   ]
  },
  {
   "attachments": {},
   "cell_type": "markdown",
   "metadata": {},
   "source": [
    "In these examples, the response is configured when calling the Mock object."
   ]
  },
  {
   "cell_type": "code",
   "execution_count": 8,
   "metadata": {},
   "outputs": [
    {
     "data": {
      "text/plain": [
       "<Mock name='Real Python Mock.name' id='2363898076416'>"
      ]
     },
     "execution_count": 8,
     "metadata": {},
     "output_type": "execute_result"
    }
   ],
   "source": [
    "mock = Mock(name='Real Python Mock')\n",
    "mock.name"
   ]
  },
  {
   "cell_type": "code",
   "execution_count": 9,
   "metadata": {},
   "outputs": [
    {
     "data": {
      "text/plain": [
       "'Real Python Mock'"
      ]
     },
     "execution_count": 9,
     "metadata": {},
     "output_type": "execute_result"
    }
   ],
   "source": [
    "mock = Mock()\n",
    "mock.name = 'Real Python Mock'\n",
    "mock.name"
   ]
  },
  {
   "attachments": {},
   "cell_type": "markdown",
   "metadata": {},
   "source": [
    "Here, the mock object mock.name is replaced with a string, and now when mock.name is called, the response will be exactly the string.\n",
    "\n",
    "Consider an example of using a Mock object when writing tests:"
   ]
  },
  {
   "cell_type": "code",
   "execution_count": null,
   "metadata": {},
   "outputs": [],
   "source": [
    "# test_example3.py\n",
    "import unittest\n",
    "from unittest.mock import Mock\n",
    "class SomeTextCorrector:\n",
    "     def __init__(self, items, id=None):\n",
    "         self.items = items\n",
    "     def correct(self, text_object):\n",
    "         temp_str = text_object.original_text\n",
    "         for substring in self.items[\"trash_substrings\"]:\n",
    "             if substring in temp_str:\n",
    "                 temp_str = temp_str.replace(substring, \"\")\n",
    "         text_object.original_text = temp_str.strip()\n",
    "         return text_object\n",
    "class TestSomeTextCorrector(unittest.TestCase):\n",
    "     @classmethod\n",
    "     def setUpClass(cls):\n",
    "         items = {\n",
    "         'trash_substrings': [\"spam\", \"credit\"]\n",
    "         }\n",
    "         cls.filter = SomeTextCorrector(items)\n",
    "     def test_1(self):\n",
    "         text_object = Mock()\n",
    "         text_object.original_text = \"spam always comes in to get a loan\"\n",
    "         result = TestSomeTextCorrector.filter.correct(text_object)\n",
    "         self.assertEqual('always comes when possible to take', result.original_text)\n",
    "if __name__ == '__main__':\n",
    "     unittest.main()"
   ]
  },
  {
   "cell_type": "code",
   "execution_count": 10,
   "metadata": {},
   "outputs": [
    {
     "name": "stderr",
     "output_type": "stream",
     "text": [
      "F\n",
      "======================================================================\n",
      "FAIL: test_1 (__main__.TestSomeTextCorrector)\n",
      "----------------------------------------------------------------------\n",
      "Traceback (most recent call last):\n",
      "  File \"C:\\Users\\Vanya\\Documents\\Python Scripts\\python_practice\\python_advanced_course\\testing\\test_example3.py\", line 24, in test_1\n",
      "    self.assertEqual('always comes when possible to take', result.original_text)\n",
      "AssertionError: 'always comes when possible to take' != 'always comes in to get a loan'\n",
      "- always comes when possible to take\n",
      "+ always comes in to get a loan\n",
      "\n",
      "\n",
      "----------------------------------------------------------------------\n",
      "Ran 1 test in 0.001s\n",
      "\n",
      "FAILED (failures=1)\n"
     ]
    },
    {
     "ename": "SystemExit",
     "evalue": "True",
     "output_type": "error",
     "traceback": [
      "An exception has occurred, use %tb to see the full traceback.\n",
      "\u001b[1;31mSystemExit\u001b[0m\u001b[1;31m:\u001b[0m True\n"
     ]
    }
   ],
   "source": [
    "%run test_example3.py"
   ]
  },
  {
   "attachments": {},
   "cell_type": "markdown",
   "metadata": {},
   "source": [
    "This creates the SomeTextCorrector class, which, using the correct() method, removes extra lines from the original_text of the text_object object.\n",
    "\n",
    "Since at the time of writing the test we do not know what the class of which the object is text_object is, we use the Mock class to create a stub for this class. Then we create a variable original_text and assign it a string with the words \"spam\" \"credit\" so that the correct() method will work correctly. We call the correct() method and pass the Mock object and check the result."
   ]
  }
 ],
 "metadata": {
  "kernelspec": {
   "display_name": "Python 3",
   "language": "python",
   "name": "python3"
  },
  "language_info": {
   "codemirror_mode": {
    "name": "ipython",
    "version": 3
   },
   "file_extension": ".py",
   "mimetype": "text/x-python",
   "name": "python",
   "nbconvert_exporter": "python",
   "pygments_lexer": "ipython3",
   "version": "3.9.13"
  },
  "orig_nbformat": 4,
  "vscode": {
   "interpreter": {
    "hash": "bedf3b64920aa7e1c49377a911937112f9a54cf7a67efed16c9a0f6b95a532e2"
   }
  }
 },
 "nbformat": 4,
 "nbformat_minor": 2
}
