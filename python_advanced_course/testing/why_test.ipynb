{
 "cells": [
  {
   "attachments": {},
   "cell_type": "markdown",
   "metadata": {},
   "source": [
    "# Why you need to test your code"
   ]
  },
  {
   "attachments": {},
   "cell_type": "markdown",
   "metadata": {},
   "source": [
    "Testing is an integral part of software development.\n",
    "\n",
    "Testing is the process of evaluating that all parts of an application work as expected.\n",
    "\n",
    "Why should you test your code?\n",
    "\n",
    "1. The presence of tests allows different developers from the team to understand that, after introducing new functionality or changing the old one, the system as a whole has not lost its operability.\n",
    "2. Building a better architecture: Highly related pieces of an application will be more difficult to test-cover, which should encourage refactoring to make the application as simple and testable as possible.\n",
    "3. Improved code quality.\n",
    "4. Refactoring simplification: Software development is a continuous process, it is normal that the system changes over time, well-written tests make it easier to make changes to the project.\n",
    "\n",
    "Tests are of different types:\n",
    "\n",
    "1. End to end (e2e) - testing the system from beginning to end, the real operation of the application is simulated.\n",
    "2. Integration tests - testing several subsystems for their correct work with each other.\n",
    "3. Unit tests are isolated tests to cover specific functionality - a class, a function, etc.\n",
    "Usually, developers are responsible for writing unit tests, and it is good practice to cover the code with tests at a level of at least 80%. It will be correct to write tests that cover not only the most obvious functionality, but also the boundary conditions."
   ]
  }
 ],
 "metadata": {
  "kernelspec": {
   "display_name": "Python 3",
   "language": "python",
   "name": "python3"
  },
  "language_info": {
   "name": "python",
   "version": "3.9.13"
  },
  "orig_nbformat": 4,
  "vscode": {
   "interpreter": {
    "hash": "bedf3b64920aa7e1c49377a911937112f9a54cf7a67efed16c9a0f6b95a532e2"
   }
  }
 },
 "nbformat": 4,
 "nbformat_minor": 2
}
