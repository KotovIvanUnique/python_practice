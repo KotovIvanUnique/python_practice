{
 "cells": [
  {
   "attachments": {},
   "cell_type": "markdown",
   "metadata": {},
   "source": [
    "# GIL"
   ]
  },
  {
   "attachments": {},
   "cell_type": "markdown",
   "metadata": {},
   "source": [
    "Unfortunately, in Python and its standard CPython interpreter, threads only appear to run in parallel, but they actually run sequentially. This is due to the GIL (Global Interpreter Lock), which limits Python to one running thread per unit of time.\n",
    "\n",
    "In the previous module on the garbage collector, it was described that Python has a system for counting object references. The problem that the GIL solves is the ability for different threads to increment or decrement object references at the same time. It can happen that one thread dereferences an object and Python deletes it, while another thread uses the newly deleted object, resulting in an error.\n",
    "\n",
    "In theory, this problem can be solved by adding locks to each object, but, unfortunately, this can lead to the problem of deadlocks - this is when threads are waiting for resources that another thread has captured, and so on endlessly.\n",
    "\n",
    "GIL is a lock on the Python interpreter itself. This is the only lock in Python that solves the problem of deadlocks, but in turn makes all applications single-threaded."
   ]
  },
  {
   "attachments": {},
   "cell_type": "markdown",
   "metadata": {},
   "source": [
    "### So is GIL good or bad?"
   ]
  },
  {
   "attachments": {},
   "cell_type": "markdown",
   "metadata": {},
   "source": [
    "If we divide all programs into CPU-dependent (image processing, matrix multiplication) and I / O-dependent (network communication, accessing the database), then we can understand that the use of threads and the GIL does not carry anything critical in I / O operations , because the time taken by Python to switch threads will be offset by the I/O time. At the same time, it is natural that, regardless of the number of processor cores, any multi-threaded Python program will not be able to unlock its potential and will work even slower than a single-threaded program due to switching GIL between threads.\n",
    "\n",
    "Having considered the GIL, we should turn to the Python threading module, which is responsible for creating and working with threads."
   ]
  },
  {
   "cell_type": "code",
   "execution_count": 1,
   "metadata": {},
   "outputs": [
    {
     "name": "stdout",
     "output_type": "stream",
     "text": [
      "before create Thread\n",
      "before running Thread\n",
      "1  - thread starting\n",
      "Wait thread finish\n",
      "all done\n"
     ]
    },
    {
     "name": "stdout",
     "output_type": "stream",
     "text": [
      "1  - after sleep\n"
     ]
    }
   ],
   "source": [
    "import threading\n",
    "import time\n",
    "def thread_function(name):\n",
    "    print(name, \" - thread starting\")\n",
    "    time.sleep(2)\n",
    "    print(name, \" - after sleep\")\n",
    "if __name__ == \"__main__\":\n",
    "    print(\"before create Thread\")\n",
    "    x = threading.Thread(target=thread_function, args=(1,))\n",
    "    print(\"before running Thread\")\n",
    "    x.start()\n",
    "    print(\"Wait thread finish\")\n",
    "    # x.join()\n",
    "    print(\"all done\")"
   ]
  },
  {
   "attachments": {},
   "cell_type": "markdown",
   "metadata": {},
   "source": [
    "In this example:\n",
    "\n",
    "1. We are importing the threading module.\n",
    "2. We create an object of the Thread class, passing to it the function with which it will start working, and the arguments for this function.\n",
    "3. With the start() method, you can start a thread, and when it finishes executing the thread_function() function, it will automatically terminate.\n",
    "\n",
    "You can also pass the daemon=True parameter when creating an object of the Thread class, which will allow you to create a daemon thread."
   ]
  },
  {
   "cell_type": "code",
   "execution_count": null,
   "metadata": {},
   "outputs": [],
   "source": [
    "x = threading.Thread(target=thread_function, args=(1,), daemon=True)"
   ]
  },
  {
   "attachments": {},
   "cell_type": "markdown",
   "metadata": {},
   "source": [
    "In theory, a daemon process is a process that runs in the background.\n",
    "\n",
    "Python distinguishes between normal threads and daemon threads. The application to stop will wait for normal threads to terminate properly, while daemons threads will simply be killed. You can think of a daemon thread as a background thread that you don't have to worry about terminating.\n",
    "\n",
    "In the previous example, x.join() was commented out.\n",
    "\n",
    "x.join() is an instruction to the main thread to wait for thread x to finish. This can be useful when the child threads are doing some work, and the main thread is then working on the data that the child threads have prepared.\n",
    "\n",
    "The example described above allows you to create one thread, and to run several, you can combine them by putting them in a list:"
   ]
  },
  {
   "cell_type": "code",
   "execution_count": 2,
   "metadata": {},
   "outputs": [
    {
     "name": "stdout",
     "output_type": "stream",
     "text": [
      "create thread -  0\n",
      "0  - thread start\n",
      "create thread -  1\n",
      "1  - thread start\n",
      "create thread -  2\n",
      "2  - thread start\n",
      "before join -  0\n",
      "10 - thread job's done\n",
      "after join -  0\n",
      "before join -  1\n",
      "2 - thread job's done\n",
      " - thread job's done\n",
      "after join -  1\n",
      "before join -  2\n",
      "after join -  2\n"
     ]
    }
   ],
   "source": [
    "import threading\n",
    "import time\n",
    "def thread_function(name):\n",
    "    print(name, \" - thread start\")\n",
    "    time.sleep(2)\n",
    "    print(name, \"- thread job's done\")\n",
    "if __name__ == \"__main__\":\n",
    "    threads = []\n",
    "    for index in range(3):\n",
    "        print(\"create thread - \", index)\n",
    "        x = threading.Thread(target=thread_function, args=(index,))\n",
    "        threads.append(x)\n",
    "        x.start()\n",
    "\n",
    "    for index, thread in enumerate(threads):\n",
    "        print(\"before join - \", index)\n",
    "        thread.join()\n",
    "        print(\"after join - \", index)"
   ]
  },
  {
   "attachments": {},
   "cell_type": "markdown",
   "metadata": {},
   "source": [
    "You can see that, after the threads start, the main thread hangs waiting for thread number 0. But the threads finish at almost the same time, so the rest of the join() passes quickly.\n",
    "\n",
    "In addition to creating multiple threads and storing them in a list, Python has the ability to use the ThreadPoolExecutor, which makes it easier to create N threads."
   ]
  },
  {
   "cell_type": "code",
   "execution_count": 3,
   "metadata": {},
   "outputs": [
    {
     "name": "stdout",
     "output_type": "stream",
     "text": [
      "thread_function Executed <Thread(ThreadPoolExecutor-0_0, started 9716)>thread_function Executed <Thread(ThreadPoolExecutor-0_1, started 15108)>\n",
      "\n"
     ]
    }
   ],
   "source": [
    "from concurrent.futures import ThreadPoolExecutor\n",
    "import threading\n",
    "import time\n",
    "def thread_function():\n",
    "    time.sleep(2)\n",
    "    print(\"thread_function Executed {}\".format(threading.current_thread()))\n",
    "def main():\n",
    "    executor = ThreadPoolExecutor(max_workers=3)\n",
    "    task1 = executor.submit(thread_function)\n",
    "    task2 = executor.submit(thread_function)\n",
    "if __name__ == '__main__':\n",
    "    main()"
   ]
  },
  {
   "attachments": {},
   "cell_type": "markdown",
   "metadata": {},
   "source": [
    "This example creates a ThreadPoolExecutor with 3 threads and passes in the function to be executed using the executor object. As you can see from the output, different threads perform this function."
   ]
  }
 ],
 "metadata": {
  "kernelspec": {
   "display_name": "Python 3",
   "language": "python",
   "name": "python3"
  },
  "language_info": {
   "codemirror_mode": {
    "name": "ipython",
    "version": 3
   },
   "file_extension": ".py",
   "mimetype": "text/x-python",
   "name": "python",
   "nbconvert_exporter": "python",
   "pygments_lexer": "ipython3",
   "version": "3.9.13"
  },
  "orig_nbformat": 4,
  "vscode": {
   "interpreter": {
    "hash": "bedf3b64920aa7e1c49377a911937112f9a54cf7a67efed16c9a0f6b95a532e2"
   }
  }
 },
 "nbformat": 4,
 "nbformat_minor": 2
}
