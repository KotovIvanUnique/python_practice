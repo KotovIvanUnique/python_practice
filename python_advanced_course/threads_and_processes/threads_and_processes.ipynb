{
 "cells": [
  {
   "attachments": {},
   "cell_type": "markdown",
   "metadata": {},
   "source": [
    "# Fundamentals of processes and threads"
   ]
  },
  {
   "attachments": {},
   "cell_type": "markdown",
   "metadata": {},
   "source": [
    "Before proceeding to the description of the possibilities for using multiple threads or processes in your program, we propose to repeat the basis on which we will build.\n",
    "\n",
    "A process is a piece of virtual memory and resources that the operating system allocates for executing a program.\n",
    "\n",
    "Each process runs in a separate address space and cannot access the resources of another process.\n",
    "\n",
    "A thread is a separate \"thread\" (thread) of execution within a process.\n",
    "\n",
    "Every program has at least one process, and every process has at least one thread, which is called the master thread.\n",
    "\n",
    "The difference between threads and processes is that threads use the memory allocated for the process, processes, in turn, communicate with each other only using inter-process communication mechanisms, and threads access each other's resources directly.\n",
    "\n",
    "Multithreading is the division of a program process into many threads that run in parallel with each other. For example, getting several html pages from different sites at the same time.\n",
    "\n",
    "Multiprocessing is the splitting of a program into several independent processes. For example, one process in the program implements the main business logic, another process runs the web server needed to monitor the life of the application."
   ]
  }
 ],
 "metadata": {
  "kernelspec": {
   "display_name": "Python 3",
   "language": "python",
   "name": "python3"
  },
  "language_info": {
   "name": "python",
   "version": "3.9.13"
  },
  "orig_nbformat": 4,
  "vscode": {
   "interpreter": {
    "hash": "bedf3b64920aa7e1c49377a911937112f9a54cf7a67efed16c9a0f6b95a532e2"
   }
  }
 },
 "nbformat": 4,
 "nbformat_minor": 2
}
