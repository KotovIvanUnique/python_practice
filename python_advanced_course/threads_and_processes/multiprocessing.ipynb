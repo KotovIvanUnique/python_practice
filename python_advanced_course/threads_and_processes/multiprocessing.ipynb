{
 "cells": [
  {
   "attachments": {},
   "cell_type": "markdown",
   "metadata": {},
   "source": [
    "# multiprocessing module"
   ]
  },
  {
   "attachments": {},
   "cell_type": "markdown",
   "metadata": {},
   "source": [
    "The multiprocessing module provides the ability to create processes in the same way as threads from the threading module. Thus, it is possible to bypass the GIL and get real parallel work.\n",
    "\n",
    "Let's look at an example of how to create a new process:"
   ]
  },
  {
   "cell_type": "code",
   "execution_count": 1,
   "metadata": {},
   "outputs": [],
   "source": [
    "import os\n",
    "from multiprocessing import Process, current_process\n",
    "def foo(number):\n",
    "    proc_name = current_process().name\n",
    "    print('{0} {1}'.format(\n",
    "        number, proc_name))\n",
    "if __name__ == '__main__':\n",
    "    random_numbers = [5, 10, 15, 20, 25]\n",
    "    process_list = []\n",
    "    proc = Process(target=foo, args=(5,))\n",
    "    for index, number in enumerate(random_numbers):\n",
    "        proc = Process(target=foo, args=(number,))\n",
    "        process_list.append(proc)\n",
    "        proc.start()   \n",
    "    proc = Process(target=foo, name='Test', args=(2,))\n",
    "    proc.start()\n",
    "    process_list.append(proc)\n",
    "    for proc in process_list:\n",
    "        proc.join()"
   ]
  },
  {
   "attachments": {},
   "cell_type": "markdown",
   "metadata": {},
   "source": [
    "Here we create a new process using the Process class, start it, and in a for loop tell the main Python process to wait until all the child processes we created earlier have terminated.\n",
    "\n",
    "The Process class takes as arguments:\n",
    "\n",
    "1. Target is a function that will be executed when the process starts.\n",
    "2. Name is the name of the process available through the current_process() function.\n",
    "3. args are the arguments to the target() function.\n",
    "\n",
    "Just like with threads, processes support Lock to block access to resources."
   ]
  },
  {
   "cell_type": "code",
   "execution_count": 2,
   "metadata": {},
   "outputs": [],
   "source": [
    "from multiprocessing import Process, Lock, current_process\n",
    "def print_function(item, lock):\n",
    "    lock.acquire()\n",
    "    try:\n",
    "       print(item, current_process())\n",
    "    finally:\n",
    "        lock.release()\n",
    "if __name__ == '__main__':\n",
    "    lock = Lock()\n",
    "    items = ['test1', 'test2', \"test3\"]    \n",
    "    for item in items:\n",
    "        p = Process(target=print_function, args=(item, lock))\n",
    "        p.start()"
   ]
  },
  {
   "attachments": {},
   "cell_type": "markdown",
   "metadata": {},
   "source": [
    "From the example, we can see that, thanks to Lock, the processes work with the function in turn.\n",
    "\n",
    "An analogue of the ThreadPoolExecutor is the Pool class, which allows you to run several processes at the same time."
   ]
  },
  {
   "cell_type": "code",
   "execution_count": 3,
   "metadata": {},
   "outputs": [],
   "source": [
    "from multiprocessing import Pool\n",
    "def calc(number):\n",
    "    return number * 2\n",
    "if __name__ == '__main__':\n",
    "    numbers = [5, 10, 20]\n",
    "    pool = Pool(processes=3)\n",
    "    print(pool.map(calc, numbers))"
   ]
  },
  {
   "attachments": {},
   "cell_type": "markdown",
   "metadata": {},
   "source": [
    "We create an instance of the Pool class, tell processes that we want to create 3 processes, and then using pool.map() we pass a function to execute and a list of numbers, where each of the elements of the list will subsequently be input to the doubler() function.\n",
    "\n",
    "For communication between processes, you can use the already familiar Queue class, which is also implemented in the multiprocessing module"
   ]
  },
  {
   "cell_type": "code",
   "execution_count": null,
   "metadata": {},
   "outputs": [],
   "source": [
    "from multiprocessing import Process, Queue\n",
    "stop_number = -1 \n",
    "def task_creator(data, q):\n",
    "    for item in data:\n",
    "        q.put(item)\n",
    "def consmuer(q):\n",
    "    while True:\n",
    "        data = q.get()\n",
    "        print('data: {}'.format(data))\n",
    "        processed = data * 2\n",
    "        print(processed)\n",
    "        if data is stop_number:\n",
    "            break\n",
    "if __name__ == '__main__':\n",
    "    q = Queue()\n",
    "    data = [5, 10, 13, -1]   \n",
    "    process_one = Process(target=task_creator, args=(data, q))\n",
    "    process_two = Process(target=consmuer, args=(q,))\n",
    "    process_one.start()\n",
    "    process_two.start()\n",
    "    q.close()\n",
    "    q.join_thread()\n",
    "    process_one.join()\n",
    "    process_two.join()"
   ]
  },
  {
   "attachments": {},
   "cell_type": "markdown",
   "metadata": {},
   "source": [
    "Here we create two processes and a queue. One process puts data into the queue at startup, and the other reads it and displays it on the screen.\n",
    "\n",
    "Queues are convenient when you need to link several processes together, for example, some are queued, others are processed.\n",
    "\n",
    "But the multiprocessing module also has a Pipe class, which allows you to connect only two processes."
   ]
  },
  {
   "cell_type": "code",
   "execution_count": null,
   "metadata": {},
   "outputs": [],
   "source": [
    "import multiprocessing  \n",
    "def sender(conn, msgs):\n",
    "    for msg in msgs:\n",
    "        conn.send(msg)\n",
    "        print(\"Sent the message: {}\".format(msg))\n",
    "    conn.close()\n",
    "\n",
    "def receiver(conn):\n",
    "    while 1:\n",
    "        msg = conn.recv()\n",
    "        if msg == \"END\":\n",
    "            break\n",
    "        print(\"Received the message: {}\".format(msg))\n",
    "\n",
    "if __name__ == \"__main__\":\n",
    "    msgs = [\"START\", \"END\"]\n",
    "    parent_conn, child_conn = multiprocessing.Pipe()\n",
    "    p1 = multiprocessing.Process(target=sender, args=(parent_conn,msgs))\n",
    "    p2 = multiprocessing.Process(target=receiver, args=(child_conn,))  \n",
    "    p1.start()\n",
    "    p2.start() \n",
    "    p1.join()\n",
    "    p2.join()"
   ]
  },
  {
   "attachments": {},
   "cell_type": "markdown",
   "metadata": {},
   "source": [
    "In this example, we create two processes, connect them using Pipe, and organize a simple transfer of text messages from one to another.\n",
    "\n",
    "I would like to note that Pipe returns two objects - parent_conn and child_conn.\n",
    "\n",
    "parent_conn is an object that sends data through Pipe.\n",
    "\n",
    "child_conn is an object that receives data from Pipe.\n",
    "\n",
    "Pipe is useful when one process is running in the background, for example, monitoring network availability, and another process wants to go to some address and asks another process about network availability, and then makes a decision based on this."
   ]
  }
 ],
 "metadata": {
  "kernelspec": {
   "display_name": "Python 3",
   "language": "python",
   "name": "python3"
  },
  "language_info": {
   "codemirror_mode": {
    "name": "ipython",
    "version": 3
   },
   "file_extension": ".py",
   "mimetype": "text/x-python",
   "name": "python",
   "nbconvert_exporter": "python",
   "pygments_lexer": "ipython3",
   "version": "3.9.13"
  },
  "orig_nbformat": 4,
  "vscode": {
   "interpreter": {
    "hash": "bedf3b64920aa7e1c49377a911937112f9a54cf7a67efed16c9a0f6b95a532e2"
   }
  }
 },
 "nbformat": 4,
 "nbformat_minor": 2
}
