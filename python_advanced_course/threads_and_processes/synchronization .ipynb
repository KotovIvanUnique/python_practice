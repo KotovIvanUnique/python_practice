{
 "cells": [
  {
   "attachments": {},
   "cell_type": "markdown",
   "metadata": {},
   "source": [
    "# Thread Synchronization Primitives"
   ]
  },
  {
   "cell_type": "markdown",
   "metadata": {},
   "source": [
    "One of the peculiarities when writing multithreaded programs is the race condition. This condition occurs when two or more threads are accessing shared resources.\n",
    "\n",
    "For example, we have a database, one of the cells of which contains a number, say, 0. By launching two threads simultaneously through the ThreadPoolExecutor, we run a function that reads the number, increases it by 1 and writes it to the database.``"
   ]
  },
  {
   "cell_type": "code",
   "execution_count": 1,
   "metadata": {},
   "outputs": [],
   "source": [
    "import time\n",
    "class DataBase:\n",
    "    def __init__(self):\n",
    "        self.value = 0\n",
    "    def update(self, name):\n",
    "        print(name, \" - start thread\")\n",
    "        local_copy = self.value\n",
    "        local_copy += 1\n",
    "        time.sleep(0.1)\n",
    "        self.value = local_copy\n",
    "        print(name, \" - finish thread\")"
   ]
  },
  {
   "attachments": {},
   "cell_type": "markdown",
   "metadata": {},
   "source": [
    "We expect the first thread to write 1 and the second thread to increment 1 to 2 afterwards. the access occurs almost simultaneously (remember the GIL), as a result, it will remain 1. Since both threads consider 0 as initial data.\n",
    "\n",
    "To successfully resolve the race condition, Python has added synchronization primitives that many may be familiar with from other programming languages.\n",
    "\n",
    "Lock is a lock that can only be held by one thread at a time.\n",
    "\n",
    "If another thread wants to access a lock that another thread has held, then it will be forced to wait until the borrower releases the lock."
   ]
  },
  {
   "cell_type": "code",
   "execution_count": null,
   "metadata": {},
   "outputs": [],
   "source": [
    "import threading\n",
    "lock = threading.Lock()\n",
    "lock.acquire() # Will lock this piece of code\n",
    "# some code\n",
    "lock.release() # release the lock"
   ]
  },
  {
   "attachments": {},
   "cell_type": "markdown",
   "metadata": {},
   "source": [
    "Conveniently, you can use the context manager and not worry about having to do an explicit lock/unlock."
   ]
  },
  {
   "cell_type": "code",
   "execution_count": null,
   "metadata": {},
   "outputs": [],
   "source": [
    "with self._lock:\n",
    "    local_copy = self.value\n",
    "    local_copy += 1\n",
    "    time.sleep(0.1)\n",
    "    self.value = local_copy"
   ]
  },
  {
   "attachments": {},
   "cell_type": "markdown",
   "metadata": {},
   "source": [
    "A semaphore is somewhat similar to Lock, with the only difference that it has a built-in counter that blocks access if the number of threads holding the semaphore is exceeded."
   ]
  },
  {
   "cell_type": "code",
   "execution_count": 2,
   "metadata": {},
   "outputs": [],
   "source": [
    "import threading\n",
    "max_connections = 10\n",
    "semaphore = threading.BoundedSemaphore(max_connections)\n",
    "semaphore.acquire() # decrement counter (-1)\n",
    "# ... access to shared resources\n",
    "semaphore.release() # increment counter (+1)"
   ]
  },
  {
   "attachments": {},
   "cell_type": "markdown",
   "metadata": {},
   "source": [
    "With each acquire(), the counter decreases, with release() it increases, but when the counter is 0, the new thread will have to wait until there is room for it.\n",
    "\n",
    "Also, during the development of a program with multithreading, it is convenient to use the Queue module, which implements a queue mechanism with threadsafe support. This means that, using a queue, information can be safely exchanged between threads."
   ]
  },
  {
   "cell_type": "code",
   "execution_count": 3,
   "metadata": {},
   "outputs": [
    {
     "name": "stdout",
     "output_type": "stream",
     "text": [
      "get task - get task -  1\n",
      " 0\n",
      "my task ismy task is 0 i am  <Thread(Thread-3, started daemon 22924)>\n",
      "get task -  2\n",
      " 1 i am  <Thread(Thread-4, started daemon 30432)>\n",
      "get task -  3\n",
      "my task ismy task is 3 i am  <Thread(Thread-4, started daemon 30432)>\n",
      "get task -  4\n",
      " 2 i am  <Thread(Thread-3, started daemon 22924)>\n",
      "my task is 4 i am  <Thread(Thread-4, started daemon 30432)>\n"
     ]
    }
   ],
   "source": [
    "import threading\n",
    "import time\n",
    "from queue import Queue\n",
    "from threading import Thread\n",
    "num_worker_threads=2\n",
    "def do_work(item):\n",
    "     time.sleep(1)\n",
    "     print(\"my task is\", item, \"i am \", threading.current_thread())\n",
    "\n",
    "def worker():\n",
    "     while True:\n",
    "         item = q.get() # get the job from\n",
    "         print(\"get task - \", item)\n",
    "         do_work(item) # do work\n",
    "         q.task_done() # signal completion\n",
    "q = Queue()\n",
    "for i in range(num_worker_threads): # Create and run threads\n",
    "     t = Thread(target=worker)\n",
    "     t.setDaemon(True)\n",
    "     t.start()\n",
    "for item in range(0, 5): # queue jobs\n",
    "     q.put(item)\n",
    "q.join() # Wait until all jobs are done"
   ]
  },
  {
   "attachments": {},
   "cell_type": "markdown",
   "metadata": {},
   "source": [
    "In this example, we start several threads, create a queue and put jobs into it. Threads, using the safe q.get() method, receive tasks and execute them.\n",
    "\n",
    "Using this example, you can easily implement your own script for downloading sites from available urls or an application that, after calculating some data, will give the task of adding the results to the database."
   ]
  }
 ],
 "metadata": {
  "kernelspec": {
   "display_name": "Python 3",
   "language": "python",
   "name": "python3"
  },
  "language_info": {
   "codemirror_mode": {
    "name": "ipython",
    "version": 3
   },
   "file_extension": ".py",
   "mimetype": "text/x-python",
   "name": "python",
   "nbconvert_exporter": "python",
   "pygments_lexer": "ipython3",
   "version": "3.9.13"
  },
  "orig_nbformat": 4,
  "vscode": {
   "interpreter": {
    "hash": "bedf3b64920aa7e1c49377a911937112f9a54cf7a67efed16c9a0f6b95a532e2"
   }
  }
 },
 "nbformat": 4,
 "nbformat_minor": 2
}
