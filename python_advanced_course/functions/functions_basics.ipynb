{
 "cells": [
  {
   "attachments": {},
   "cell_type": "markdown",
   "metadata": {},
   "source": [
    "# Function Basics"
   ]
  },
  {
   "attachments": {},
   "cell_type": "markdown",
   "metadata": {},
   "source": [
    "A function is a block of organized, reusable code that is used to perform a single related action. Functions provide modularity and a high degree of code reuse.\n",
    "\n",
    "There are built-in Python functions - print(), len(), str(), etc., and user-defined ones."
   ]
  },
  {
   "attachments": {},
   "cell_type": "markdown",
   "metadata": {},
   "source": [
    "### How to create your own function?"
   ]
  },
  {
   "attachments": {},
   "cell_type": "markdown",
   "metadata": {},
   "source": [
    "Creating your own function in Python is very easy:\n",
    "\n",
    "1. A function starts with the def keyword, the name of the function, and parentheses ().\n",
    "2. Input parameters are defined inside parentheses.\n",
    "3. Further optional, but may be followed by docstring - a description of the function.\n",
    "4. Every function after parentheses starts with a colon (:) and is indented.\n",
    "5. To return the result of a function, you need to use the return keyword, but if it is not specified, then this is equivalent to return None.\n",
    "\n",
    "An example that illustrates the above properties:"
   ]
  },
  {
   "cell_type": "code",
   "execution_count": null,
   "metadata": {},
   "outputs": [],
   "source": [
    "def function_name(param1, param2, param3):\n",
    "    \"function_docstring\"\n",
    "    some work\n",
    "    return [expression]"
   ]
  },
  {
   "attachments": {},
   "cell_type": "markdown",
   "metadata": {},
   "source": [
    "Once a function is defined, you can call it anywhere in the program like this:"
   ]
  },
  {
   "cell_type": "code",
   "execution_count": null,
   "metadata": {},
   "outputs": [],
   "source": [
    "result = function_name(\"str1\", 2, [1,2,3])\n",
    "print(result)"
   ]
  },
  {
   "attachments": {},
   "cell_type": "markdown",
   "metadata": {},
   "source": [
    "We pass values to a function and expect the result, which we then print using the print() function."
   ]
  },
  {
   "attachments": {},
   "cell_type": "markdown",
   "metadata": {},
   "source": [
    "### How are parameters passed to a function?"
   ]
  },
  {
   "attachments": {},
   "cell_type": "markdown",
   "metadata": {},
   "source": [
    "In many programming languages, there is a way to pass arguments to a function by reference or by value. In Python, it is correct to say that we are passing by object reference (PASS-BY-OBJECT-REFERENCE).\n",
    "\n",
    "It is important to understand here that a variable is a pointer to some object, but a variable is not the object itself."
   ]
  },
  {
   "cell_type": "code",
   "execution_count": 2,
   "metadata": {},
   "outputs": [
    {
     "name": "stdout",
     "output_type": "stream",
     "text": [
      "[0, 1]\n"
     ]
    }
   ],
   "source": [
    "def append(my_list): \n",
    "    my_list.append(1) \n",
    "x = [0] \n",
    "append(x) \n",
    "print(x)"
   ]
  },
  {
   "attachments": {},
   "cell_type": "markdown",
   "metadata": {},
   "source": [
    "Here we create a list x = [0], pass this to the append() function, the my_list variable also refers to a list object, so when append() is called, we will change the original list referenced by x:\n",
    "\n",
    "print x -> [0,1]\n",
    "\n",
    "Consider another example:"
   ]
  },
  {
   "cell_type": "code",
   "execution_count": 3,
   "metadata": {},
   "outputs": [
    {
     "name": "stdout",
     "output_type": "stream",
     "text": [
      "[0]\n"
     ]
    }
   ],
   "source": [
    "def append(my_list): \n",
    "    my_list = [0, 1] \n",
    "x = [0] \n",
    "append(x) \n",
    "print(x)"
   ]
  },
  {
   "attachments": {},
   "cell_type": "markdown",
   "metadata": {},
   "source": [
    "The result of the work will be [0], because inside the function a new list is created and at that point in time my_list points to [0,1] and x still points to [0].\n",
    "\n",
    "Strictly speaking, the behavior from the first example is typical for all mutable objects - list, dict, set."
   ]
  },
  {
   "attachments": {},
   "cell_type": "markdown",
   "metadata": {},
   "source": [
    "### What are the arguments in functions?"
   ]
  },
  {
   "attachments": {},
   "cell_type": "markdown",
   "metadata": {},
   "source": [
    "In Python, there is a flexible setting of function arguments, the following are distinguished:\n",
    "\n",
    "- required arguments;\n",
    "- key arguments;\n",
    "- default arguments;\n",
    "- variable number of arguments.\n",
    "\n",
    "Required arguments are the arguments that were passed to the function in the correct positional order. The number of arguments passed must match the number of arguments described:"
   ]
  },
  {
   "cell_type": "code",
   "execution_count": 4,
   "metadata": {},
   "outputs": [
    {
     "ename": "TypeError",
     "evalue": "print_func() missing 1 required positional argument: 'str_to_print'",
     "output_type": "error",
     "traceback": [
      "\u001b[1;31m---------------------------------------------------------------------------\u001b[0m",
      "\u001b[1;31mTypeError\u001b[0m                                 Traceback (most recent call last)",
      "\u001b[1;32md:\\Documents\\python_practice\\python_advanced_course\\functions\\functions_basics.ipynb Cell 17\u001b[0m in \u001b[0;36m<cell line: 3>\u001b[1;34m()\u001b[0m\n\u001b[0;32m      <a href='vscode-notebook-cell:/d%3A/Documents/python_practice/python_advanced_course/functions/functions_basics.ipynb#X41sZmlsZQ%3D%3D?line=0'>1</a>\u001b[0m \u001b[39mdef\u001b[39;00m \u001b[39mprint_func\u001b[39m(str_to_print):\n\u001b[0;32m      <a href='vscode-notebook-cell:/d%3A/Documents/python_practice/python_advanced_course/functions/functions_basics.ipynb#X41sZmlsZQ%3D%3D?line=1'>2</a>\u001b[0m     \u001b[39mprint\u001b[39m(str_to_print)\n\u001b[1;32m----> <a href='vscode-notebook-cell:/d%3A/Documents/python_practice/python_advanced_course/functions/functions_basics.ipynb#X41sZmlsZQ%3D%3D?line=2'>3</a>\u001b[0m print_func()\n",
      "\u001b[1;31mTypeError\u001b[0m: print_func() missing 1 required positional argument: 'str_to_print'"
     ]
    }
   ],
   "source": [
    "def print_func(str_to_print):\n",
    "    print(str_to_print)\n",
    "print_func()"
   ]
  },
  {
   "attachments": {},
   "cell_type": "markdown",
   "metadata": {},
   "source": [
    "We get an error, because called a function with the wrong number of arguments."
   ]
  },
  {
   "cell_type": "code",
   "execution_count": 5,
   "metadata": {},
   "outputs": [
    {
     "name": "stdout",
     "output_type": "stream",
     "text": [
      "test\n"
     ]
    }
   ],
   "source": [
    "def print_func(str_to_print):\n",
    "     print(str_to_print)\n",
    "print_func(\"test\") # this will work correctly"
   ]
  },
  {
   "attachments": {},
   "cell_type": "markdown",
   "metadata": {},
   "source": [
    "Key arguments - when, when calling a function, the developer explicitly specifies the function arguments and external variables that correspond to them. Thus, a hard order is not needed:"
   ]
  },
  {
   "cell_type": "code",
   "execution_count": null,
   "metadata": {},
   "outputs": [],
   "source": [
    "def print_func(str_to_print, int_to_print):\n",
    "    print(str_to_print)\n",
    "    print(int_to_print)\n",
    "print_func(int_to_print=50, str_to_print=\"test\")"
   ]
  },
  {
   "cell_type": "markdown",
   "metadata": {},
   "source": [
    "Default Arguments is an argument that takes on a default value if no value is provided at the time the function is called."
   ]
  },
  {
   "cell_type": "code",
   "execution_count": null,
   "metadata": {},
   "outputs": [],
   "source": [
    "def print_func(str_to_print, int_to_print=50):\n",
    "    print(str_to_print)\n",
    "    print(int_to_print)\n",
    "print_func(str_to_print=\"test\")"
   ]
  }
 ],
 "metadata": {
  "kernelspec": {
   "display_name": "Python 3",
   "language": "python",
   "name": "python3"
  },
  "language_info": {
   "codemirror_mode": {
    "name": "ipython",
    "version": 3
   },
   "file_extension": ".py",
   "mimetype": "text/x-python",
   "name": "python",
   "nbconvert_exporter": "python",
   "pygments_lexer": "ipython3",
   "version": "3.9.13"
  },
  "orig_nbformat": 4,
  "vscode": {
   "interpreter": {
    "hash": "425e6f8b25506f1197abf96da7ff3b81109bcb7eca25eea5e9075a0d6b93f442"
   }
  }
 },
 "nbformat": 4,
 "nbformat_minor": 2
}
