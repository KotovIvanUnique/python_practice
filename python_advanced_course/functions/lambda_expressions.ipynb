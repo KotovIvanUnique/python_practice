{
 "cells": [
  {
   "attachments": {},
   "cell_type": "markdown",
   "metadata": {},
   "source": [
    "# Lambda Expressions"
   ]
  },
  {
   "attachments": {},
   "cell_type": "markdown",
   "metadata": {},
   "source": [
    "Lambda expressions are the syntactic sugar in Python needed to create anonymous/lambda functions.\n",
    "\n",
    "Lambda calculus / lambda functions were originally characteristic of functional programming languages such as Haskell, Lisp, Erlang.\n",
    "\n",
    "And although Python is an imperative language, it took away a piece of their functionality."
   ]
  },
  {
   "attachments": {},
   "cell_type": "markdown",
   "metadata": {},
   "source": [
    "Lambda functions in Python are defined in the following way:"
   ]
  },
  {
   "cell_type": "code",
   "execution_count": 1,
   "metadata": {},
   "outputs": [
    {
     "data": {
      "text/plain": [
       "<function __main__.<lambda>(x)>"
      ]
     },
     "execution_count": 1,
     "metadata": {},
     "output_type": "execute_result"
    }
   ],
   "source": [
    "lambda x: x + 1"
   ]
  },
  {
   "attachments": {},
   "cell_type": "markdown",
   "metadata": {},
   "source": [
    "Where:\n",
    "\n",
    "lambda is a keyword;\n",
    "\n",
    "x - input argument;\n",
    "\n",
    "x + 1 - actions on the argument."
   ]
  },
  {
   "cell_type": "code",
   "execution_count": 2,
   "metadata": {},
   "outputs": [
    {
     "data": {
      "text/plain": [
       "3"
      ]
     },
     "execution_count": 2,
     "metadata": {},
     "output_type": "execute_result"
    }
   ],
   "source": [
    "(lambda x: x + 1)(2)"
   ]
  },
  {
   "attachments": {},
   "cell_type": "markdown",
   "metadata": {},
   "source": [
    "because is a function, you can call it:"
   ]
  },
  {
   "cell_type": "code",
   "execution_count": 3,
   "metadata": {},
   "outputs": [
    {
     "data": {
      "text/plain": [
       "3"
      ]
     },
     "execution_count": 3,
     "metadata": {},
     "output_type": "execute_result"
    }
   ],
   "source": [
    "add_one = lambda x: x + 1\n",
    "add_one(2)"
   ]
  },
  {
   "attachments": {},
   "cell_type": "markdown",
   "metadata": {},
   "source": [
    "and also assign to a variable."
   ]
  },
  {
   "attachments": {},
   "cell_type": "markdown",
   "metadata": {},
   "source": [
    "### Applying Lambda Functions in practice"
   ]
  },
  {
   "attachments": {},
   "cell_type": "markdown",
   "metadata": {},
   "source": [
    "In practice, lambda functions are often used as an argument to another function.\n",
    "\n",
    "For example, when using the sorted() function:"
   ]
  },
  {
   "cell_type": "code",
   "execution_count": 4,
   "metadata": {},
   "outputs": [
    {
     "name": "stdout",
     "output_type": "stream",
     "text": [
      "['cyan', 'Goldenrod', 'purple', 'Salmon', 'turquoise']\n"
     ]
    }
   ],
   "source": [
    "colors = [\"Goldenrod\", \"purple\", \"Salmon\", \"turquoise\", \"cyan\"]\n",
    "print(sorted(colors, key=lambda s: s.casefold()))"
   ]
  },
  {
   "attachments": {},
   "cell_type": "markdown",
   "metadata": {},
   "source": [
    "In other cases, using lambda is justified if:\n",
    "\n",
    "- Inside the class / function method, you need to perform a simple operation several times, which there is no desire to take out into a separate function.\n",
    "- The presence of a lambda function makes the code more understandable."
   ]
  }
 ],
 "metadata": {
  "kernelspec": {
   "display_name": "Python 3",
   "language": "python",
   "name": "python3"
  },
  "language_info": {
   "codemirror_mode": {
    "name": "ipython",
    "version": 3
   },
   "file_extension": ".py",
   "mimetype": "text/x-python",
   "name": "python",
   "nbconvert_exporter": "python",
   "pygments_lexer": "ipython3",
   "version": "3.9.13"
  },
  "orig_nbformat": 4,
  "vscode": {
   "interpreter": {
    "hash": "425e6f8b25506f1197abf96da7ff3b81109bcb7eca25eea5e9075a0d6b93f442"
   }
  }
 },
 "nbformat": 4,
 "nbformat_minor": 2
}
