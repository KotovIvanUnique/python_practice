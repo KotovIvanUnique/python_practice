{
 "cells": [
  {
   "attachments": {},
   "cell_type": "markdown",
   "metadata": {},
   "source": [
    "# *args и **kwargs"
   ]
  },
  {
   "attachments": {},
   "cell_type": "markdown",
   "metadata": {},
   "source": [
    "Variable number of arguments - *args, **kwargs.\n",
    "\n",
    "*args - for unnamed arguments.\n",
    "\n",
    "**kwargs - for named arguments.\n",
    "\n",
    "This approach is used when the number of arguments in the function is not known in advance.\n",
    "\n",
    "*args - in this case, the variables are passed as a tuple and are available under the name specified when declaring the argument."
   ]
  },
  {
   "cell_type": "code",
   "execution_count": 1,
   "metadata": {},
   "outputs": [
    {
     "name": "stdout",
     "output_type": "stream",
     "text": [
      "8\n",
      "22\n",
      "17\n"
     ]
    }
   ],
   "source": [
    "def summator(*nums):\n",
    "    sum = 0\n",
    "    for n in nums:\n",
    "        sum += n\n",
    "    print(sum)\n",
    "summator(3, 5)\n",
    "summator(4, 5, 6, 7)\n",
    "summator(1, 2, 3, 5, 6)"
   ]
  },
  {
   "attachments": {},
   "cell_type": "markdown",
   "metadata": {},
   "source": [
    "**kwargs - in this case, the variables are passed as a dictionary and are available under the name specified when declaring the argument."
   ]
  },
  {
   "cell_type": "code",
   "execution_count": 2,
   "metadata": {},
   "outputs": [
    {
     "name": "stdout",
     "output_type": "stream",
     "text": [
      "kwargs type is <class 'dict'>\n",
      "Company Sberbank\n",
      "info python_course\n",
      "location online\n"
     ]
    }
   ],
   "source": [
    "def inside_kwargs(**kwargs):\n",
    "    print(\"kwargs type is\", type(kwargs))\n",
    "    for key, value in kwargs.items():\n",
    "        print(key, value)\n",
    "inside_kwargs(Company=\"Sberbank\", info=\"python_course\", location=\"online\")"
   ]
  },
  {
   "attachments": {},
   "cell_type": "markdown",
   "metadata": {},
   "source": [
    "*args, **kwargs are well-established variable names for passing an unknown number of variables to a function, but it is not necessary to name them that way.\n",
    "\n",
    "*args, **kwargs can be combined, but in this case the order is important and *args comes first, then **kwargs."
   ]
  }
 ],
 "metadata": {
  "kernelspec": {
   "display_name": "Python 3",
   "language": "python",
   "name": "python3"
  },
  "language_info": {
   "codemirror_mode": {
    "name": "ipython",
    "version": 3
   },
   "file_extension": ".py",
   "mimetype": "text/x-python",
   "name": "python",
   "nbconvert_exporter": "python",
   "pygments_lexer": "ipython3",
   "version": "3.9.13"
  },
  "orig_nbformat": 4,
  "vscode": {
   "interpreter": {
    "hash": "425e6f8b25506f1197abf96da7ff3b81109bcb7eca25eea5e9075a0d6b93f442"
   }
  }
 },
 "nbformat": 4,
 "nbformat_minor": 2
}
