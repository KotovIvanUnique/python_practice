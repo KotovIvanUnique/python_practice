{
 "cells": [
  {
   "attachments": {},
   "cell_type": "markdown",
   "metadata": {},
   "source": [
    "# Decorators"
   ]
  },
  {
   "attachments": {},
   "cell_type": "markdown",
   "metadata": {},
   "source": [
    "A decorator is primarily a structural design pattern for dynamically attaching additional behavior to an object.\n",
    "\n",
    "In Python, this mechanism is brought to the level of syntactic sugar due to several features of the language.\n",
    "\n",
    "1. A function is an object, it can be assigned to a variable:"
   ]
  },
  {
   "cell_type": "code",
   "execution_count": 1,
   "metadata": {},
   "outputs": [
    {
     "name": "stdout",
     "output_type": "stream",
     "text": [
      "test\n",
      "test\n"
     ]
    }
   ],
   "source": [
    "def example_function(param1 = \"test\"):\n",
    "    return param1\n",
    "print(example_function())\n",
    "variable = example_function\n",
    "print(variable())"
   ]
  },
  {
   "attachments": {},
   "cell_type": "markdown",
   "metadata": {},
   "source": [
    "2. A function can be defined inside another function:"
   ]
  },
  {
   "cell_type": "code",
   "execution_count": 2,
   "metadata": {},
   "outputs": [
    {
     "name": "stdout",
     "output_type": "stream",
     "text": [
      "test\n",
      "None\n"
     ]
    }
   ],
   "source": [
    "def example_function():\n",
    "    def under_function(param1):\n",
    "        print(param1)\n",
    "    print(under_function(\"test\"))\n",
    "example_function()"
   ]
  },
  {
   "attachments": {},
   "cell_type": "markdown",
   "metadata": {},
   "source": [
    "3. A function can return a function as the result of its work:"
   ]
  },
  {
   "cell_type": "code",
   "execution_count": 3,
   "metadata": {},
   "outputs": [
    {
     "name": "stdout",
     "output_type": "stream",
     "text": [
      "test\n",
      "None\n"
     ]
    }
   ],
   "source": [
    "def example_function():\n",
    "    def under_function(param1):\n",
    "        print(param1)\n",
    "    return under_function\n",
    "variable = example_function()\n",
    "print(variable(\"test\"))"
   ]
  },
  {
   "attachments": {},
   "cell_type": "markdown",
   "metadata": {},
   "source": [
    "4. A function can take another function as an input parameter:"
   ]
  },
  {
   "cell_type": "code",
   "execution_count": 4,
   "metadata": {},
   "outputs": [
    {
     "name": "stdout",
     "output_type": "stream",
     "text": [
      "print before func\n",
      "i am just printing\n",
      "print after func\n"
     ]
    }
   ],
   "source": [
    "def print_func():\n",
    "    print(\"i am just printing\")\n",
    "def example_function(func):\n",
    "    print(\"print before func\")\n",
    "    func()\n",
    "    print(\"print after func\")\n",
    "example_function(print_func)"
   ]
  },
  {
   "attachments": {},
   "cell_type": "markdown",
   "metadata": {},
   "source": [
    "By combining the above features, you can create \"your\" decorator without resorting to Python sugar:"
   ]
  },
  {
   "cell_type": "code",
   "execution_count": 5,
   "metadata": {},
   "outputs": [
    {
     "name": "stdout",
     "output_type": "stream",
     "text": [
      "before\n",
      "i am just printing this\n",
      "after\n"
     ]
    }
   ],
   "source": [
    "def self_decorator(function_to_decorate):\n",
    "     def wrap_original_function(): # declare a nested function\n",
    "         print(\"before\")\n",
    "         function_to_decorate() # call original function\n",
    "         print(\"after\")\n",
    "     return wrap_original_function # return the function as a result of work\n",
    "def easy_function(): # define a simple function\n",
    "     print(\"i am just printing this\")\n",
    "decorated_function = self_decorator(easy_function) # decorate the function\n",
    "decorated_function()"
   ]
  },
  {
   "attachments": {},
   "cell_type": "markdown",
   "metadata": {},
   "source": [
    "But using decorator syntax, we can rewrite the previous example more concisely:"
   ]
  },
  {
   "cell_type": "code",
   "execution_count": 6,
   "metadata": {},
   "outputs": [
    {
     "name": "stdout",
     "output_type": "stream",
     "text": [
      "before\n",
      "i am just printing this\n",
      "after\n"
     ]
    }
   ],
   "source": [
    "@self_decorator\n",
    "def easy_function():\n",
    "    print(\"i am just printing this\")\n",
    "easy_function()"
   ]
  },
  {
   "attachments": {},
   "cell_type": "markdown",
   "metadata": {},
   "source": [
    "Of course, you can use not only one function as a decorator, but use a whole hierarchy of decorators:"
   ]
  },
  {
   "cell_type": "code",
   "execution_count": null,
   "metadata": {},
   "outputs": [],
   "source": [
    "@memory_decorator\n",
    "@time_decorator\n",
    "@self_decorator\n",
    "def easy_function():\n",
    "    print(\"i am just printinng this\")\n",
    "easy_function()"
   ]
  },
  {
   "attachments": {},
   "cell_type": "markdown",
   "metadata": {},
   "source": [
    "At the same time, order is important. The easy_function() function will be wrapped first with @self_decorator, then @time_decorator, then @memory_decorator.\n",
    "\n",
    "Because decorators contain Python functions, you can easily pass arguments inside the decorated function:"
   ]
  },
  {
   "cell_type": "code",
   "execution_count": 8,
   "metadata": {},
   "outputs": [
    {
     "name": "stdout",
     "output_type": "stream",
     "text": [
      "this is before\n",
      "my args this is before this is after\n",
      "this is after\n"
     ]
    }
   ],
   "source": [
    "def self_decorator(function_to_decorate):\n",
    "    def wrap_original_function(before_arg, after_arg):\n",
    "        print(before_arg)\n",
    "        function_to_decorate(before_arg, after_arg)\n",
    "        print(after_arg)\n",
    "    return wrap_original_function\n",
    "\n",
    "@self_decorator\n",
    "def easy_function(before_arg, after_arg):\n",
    "    print(\"my args\", before_arg, after_arg)\n",
    "\n",
    "easy_function(\"this is before\", \"this is after\")"
   ]
  },
  {
   "attachments": {},
   "cell_type": "markdown",
   "metadata": {},
   "source": [
    "Of course, it's more logical to use *args, **kwargs, to apply a decorator to any function:"
   ]
  },
  {
   "cell_type": "code",
   "execution_count": 9,
   "metadata": {},
   "outputs": [],
   "source": [
    "def self_decorator(function_to_decorate):\n",
    "    def wrap_original_function(*args, **kwargs):\n",
    "        function_to_decorate(*args, **kwargs)\n",
    "    return wrap_original_function"
   ]
  },
  {
   "attachments": {},
   "cell_type": "markdown",
   "metadata": {},
   "source": [
    "It was logical to assume the possibility of passing arguments to the decorator - after all, this is a function. These decorators are called parameterized decorators:"
   ]
  },
  {
   "cell_type": "code",
   "execution_count": 10,
   "metadata": {},
   "outputs": [
    {
     "name": "stdout",
     "output_type": "stream",
     "text": [
      "my decorator args test1 test2\n",
      "test4 test5\n"
     ]
    }
   ],
   "source": [
    "def parametarized_decorator(decorator_arg1, decorator_arg2):   \n",
    "    print(\"my decorator args\", decorator_arg1, decorator_arg2)\n",
    "    def custom_decorator(func):\n",
    "        def wrapped(function_arg1, function_arg2) :\n",
    "            return func(function_arg1, function_arg2)\n",
    "        return wrapped \n",
    "    return custom_decorator\n",
    "\n",
    "@parametarized_decorator(\"test1\", \"test2\")\n",
    "def easy_function(function_arg1, function_arg2):\n",
    "    print(function_arg1, function_arg2)\n",
    "\n",
    "easy_function(\"test4\", \"test5\")"
   ]
  },
  {
   "attachments": {},
   "cell_type": "markdown",
   "metadata": {},
   "source": [
    "Keep in mind that Python only executes decorators the first time you include your script."
   ]
  },
  {
   "attachments": {},
   "cell_type": "markdown",
   "metadata": {},
   "source": [
    "### Decorators in practice"
   ]
  },
  {
   "attachments": {},
   "cell_type": "markdown",
   "metadata": {},
   "source": [
    "In practice, decorators are convenient to use to extend the functionality of third-party libraries / already written code in your own project.\n",
    "\n",
    "It is convenient to write universal decorators for error handling, logging, and measuring the time of a function.\n",
    "\n",
    "Python has many different standard decorators built in - @staticmethod, @classmethod, @functools.wraps, which will be described in further modules of the course."
   ]
  }
 ],
 "metadata": {
  "kernelspec": {
   "display_name": "Python 3",
   "language": "python",
   "name": "python3"
  },
  "language_info": {
   "codemirror_mode": {
    "name": "ipython",
    "version": 3
   },
   "file_extension": ".py",
   "mimetype": "text/x-python",
   "name": "python",
   "nbconvert_exporter": "python",
   "pygments_lexer": "ipython3",
   "version": "3.9.13"
  },
  "orig_nbformat": 4,
  "vscode": {
   "interpreter": {
    "hash": "425e6f8b25506f1197abf96da7ff3b81109bcb7eca25eea5e9075a0d6b93f442"
   }
  }
 },
 "nbformat": 4,
 "nbformat_minor": 2
}
