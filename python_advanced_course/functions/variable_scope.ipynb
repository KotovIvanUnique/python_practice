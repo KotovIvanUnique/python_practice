{
 "cells": [
  {
   "attachments": {},
   "cell_type": "markdown",
   "metadata": {},
   "source": [
    "# Variable scope"
   ]
  },
  {
   "attachments": {},
   "cell_type": "markdown",
   "metadata": {},
   "source": [
    "The functions above have been described, how to create and use them. It would be correct to describe the ability to use variables within functions in terms of scope.\n",
    "\n",
    "Python distinguishes between global and local variables.\n",
    "\n",
    "Global variables are variables declared outside of functions or inside the global scope.\n",
    "\n",
    "This means that the variable is accessible outside and inside the function:"
   ]
  },
  {
   "cell_type": "code",
   "execution_count": 1,
   "metadata": {},
   "outputs": [
    {
     "name": "stdout",
     "output_type": "stream",
     "text": [
      "x inside : global\n",
      "x outside: global\n"
     ]
    }
   ],
   "source": [
    "x = \"global\"\n",
    "def foo():\n",
    "    print(\"x inside :\", x)\n",
    "foo()\n",
    "print(\"x outside:\", x)"
   ]
  },
  {
   "attachments": {},
   "cell_type": "markdown",
   "metadata": {},
   "source": [
    "We have accessed the variable x inside and outside of the foo() function.\n",
    "But it is worth noting an interesting point that if we try to change this variable inside the foo () function, we will get an error."
   ]
  },
  {
   "cell_type": "code",
   "execution_count": 2,
   "metadata": {},
   "outputs": [
    {
     "ename": "UnboundLocalError",
     "evalue": "local variable 'x' referenced before assignment",
     "output_type": "error",
     "traceback": [
      "\u001b[1;31m---------------------------------------------------------------------------\u001b[0m",
      "\u001b[1;31mUnboundLocalError\u001b[0m                         Traceback (most recent call last)",
      "\u001b[1;32md:\\Documents\\python_practice\\python_advanced_course\\functions\\variable_scope.ipynb Cell 5\u001b[0m in \u001b[0;36m<cell line: 5>\u001b[1;34m()\u001b[0m\n\u001b[0;32m      <a href='vscode-notebook-cell:/d%3A/Documents/python_practice/python_advanced_course/functions/variable_scope.ipynb#X13sZmlsZQ%3D%3D?line=2'>3</a>\u001b[0m     x \u001b[39m=\u001b[39m x \u001b[39m*\u001b[39m \u001b[39m2\u001b[39m\n\u001b[0;32m      <a href='vscode-notebook-cell:/d%3A/Documents/python_practice/python_advanced_course/functions/variable_scope.ipynb#X13sZmlsZQ%3D%3D?line=3'>4</a>\u001b[0m     \u001b[39mprint\u001b[39m(x)\n\u001b[1;32m----> <a href='vscode-notebook-cell:/d%3A/Documents/python_practice/python_advanced_course/functions/variable_scope.ipynb#X13sZmlsZQ%3D%3D?line=4'>5</a>\u001b[0m foo()\n",
      "\u001b[1;32md:\\Documents\\python_practice\\python_advanced_course\\functions\\variable_scope.ipynb Cell 5\u001b[0m in \u001b[0;36mfoo\u001b[1;34m()\u001b[0m\n\u001b[0;32m      <a href='vscode-notebook-cell:/d%3A/Documents/python_practice/python_advanced_course/functions/variable_scope.ipynb#X13sZmlsZQ%3D%3D?line=1'>2</a>\u001b[0m \u001b[39mdef\u001b[39;00m \u001b[39mfoo\u001b[39m():\n\u001b[1;32m----> <a href='vscode-notebook-cell:/d%3A/Documents/python_practice/python_advanced_course/functions/variable_scope.ipynb#X13sZmlsZQ%3D%3D?line=2'>3</a>\u001b[0m     x \u001b[39m=\u001b[39m x \u001b[39m*\u001b[39m \u001b[39m2\u001b[39m\n\u001b[0;32m      <a href='vscode-notebook-cell:/d%3A/Documents/python_practice/python_advanced_course/functions/variable_scope.ipynb#X13sZmlsZQ%3D%3D?line=3'>4</a>\u001b[0m     \u001b[39mprint\u001b[39m(x)\n",
      "\u001b[1;31mUnboundLocalError\u001b[0m: local variable 'x' referenced before assignment"
     ]
    }
   ],
   "source": [
    "x = \"global\"\n",
    "def foo():\n",
    "    x = x * 2\n",
    "    print(x)\n",
    "foo()"
   ]
  },
  {
   "attachments": {},
   "cell_type": "markdown",
   "metadata": {},
   "source": [
    "This is because when a variable changes, the function looks for it inside the local scope, but does not find its primary definition. To fix this error, use the global keyword:"
   ]
  },
  {
   "cell_type": "code",
   "execution_count": 4,
   "metadata": {},
   "outputs": [
    {
     "name": "stdout",
     "output_type": "stream",
     "text": [
      "globalglobal\n"
     ]
    }
   ],
   "source": [
    "x=\"global\"\n",
    "def foo():\n",
    "     global x\n",
    "     x=x*2\n",
    "     print(x)\n",
    "foo()"
   ]
  },
  {
   "attachments": {},
   "cell_type": "markdown",
   "metadata": {},
   "source": [
    "Local variables are variables defined inside functions / methods of classes that are used only inside these functions:"
   ]
  },
  {
   "cell_type": "code",
   "execution_count": 5,
   "metadata": {},
   "outputs": [
    {
     "name": "stdout",
     "output_type": "stream",
     "text": [
      "local\n"
     ]
    }
   ],
   "source": [
    "def foo():\n",
    "    y = \"local\"\n",
    "    print(y)\n",
    "foo()"
   ]
  },
  {
   "attachments": {},
   "cell_type": "markdown",
   "metadata": {},
   "source": [
    "Python is a flexible language, it allows you to create functions within functions, etc.\n",
    "\n",
    "For example:"
   ]
  },
  {
   "cell_type": "code",
   "execution_count": 7,
   "metadata": {},
   "outputs": [
    {
     "name": "stdout",
     "output_type": "stream",
     "text": [
      "in foo\n"
     ]
    }
   ],
   "source": [
    "def foo():\n",
    "    def under_foo():\n",
    "        print(\"in foo\")\n",
    "    under_foo()\n",
    "foo()"
   ]
  },
  {
   "attachments": {},
   "cell_type": "markdown",
   "metadata": {},
   "source": [
    "Applicable to the under_foo() function, you can declare a non-local variable using the nonlocal keyword.\n",
    "\n",
    "This means that a variable cannot be in either the local or global scope."
   ]
  },
  {
   "cell_type": "code",
   "execution_count": 8,
   "metadata": {},
   "outputs": [
    {
     "name": "stdout",
     "output_type": "stream",
     "text": [
      "inner: nonlocal\n",
      "outer: nonlocal\n"
     ]
    }
   ],
   "source": [
    "def outer():\n",
    "    x = \"local\"\n",
    "    def inner():\n",
    "        nonlocal x\n",
    "        x = \"nonlocal\"\n",
    "        print(\"inner:\", x)\n",
    "    inner()\n",
    "    print(\"outer:\", x)\n",
    "outer()"
   ]
  },
  {
   "attachments": {},
   "cell_type": "markdown",
   "metadata": {},
   "source": [
    "Here, inside the inner() function, we define a non-local variable X. The inner() function is defined in the scope of the outer() function, so using the nonlocal keyword changes the value of the local variable X of the outer() function."
   ]
  },
  {
   "attachments": {},
   "cell_type": "markdown",
   "metadata": {},
   "source": [
    "### How to apply local/global variables in practice?"
   ]
  },
  {
   "attachments": {},
   "cell_type": "markdown",
   "metadata": {},
   "source": [
    "It is good practice to use global variables as constants, for example, to set up string variables and use them as dictionary keys.\n",
    "\n",
    "In a large project, changing global variables inside functions leads to nasty and hard-to-find bugs.\n",
    "\n",
    "The use of nonlocal variables is justified when the nested function code is short and logical. But usually in practice, the use of nested functions leads to complication of the code and subsequent refactoring."
   ]
  }
 ],
 "metadata": {
  "kernelspec": {
   "display_name": "Python 3",
   "language": "python",
   "name": "python3"
  },
  "language_info": {
   "codemirror_mode": {
    "name": "ipython",
    "version": 3
   },
   "file_extension": ".py",
   "mimetype": "text/x-python",
   "name": "python",
   "nbconvert_exporter": "python",
   "pygments_lexer": "ipython3",
   "version": "3.9.13"
  },
  "orig_nbformat": 4,
  "vscode": {
   "interpreter": {
    "hash": "425e6f8b25506f1197abf96da7ff3b81109bcb7eca25eea5e9075a0d6b93f442"
   }
  }
 },
 "nbformat": 4,
 "nbformat_minor": 2
}
