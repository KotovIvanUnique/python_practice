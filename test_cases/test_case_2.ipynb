{
 "cells": [
  {
   "cell_type": "code",
   "execution_count": 8,
   "metadata": {},
   "outputs": [],
   "source": [
    "import fileinput\n",
    "import json\n",
    "from collections import Counter\n",
    "import math\n",
    "\n",
    "# объявление функций\n",
    "def get_friend(x):\n",
    "    # ваш код\n",
    "    \n",
    "    counts = Counter(x).values()\n",
    "    max_value = max(counts)\n",
    "    min_value = min(counts)\n",
    "    gcd = math.gcd(min_value, max_value)\n",
    "    if gcd == min_value:\n",
    "        for count in counts:\n",
    "            if count % gcd != 0:\n",
    "                gcd = math.gcd(min_value, count)\n",
    "    return gcd # вывод результата работы вашей функции"
   ]
  },
  {
   "cell_type": "code",
   "execution_count": 12,
   "metadata": {},
   "outputs": [
    {
     "data": {
      "text/plain": [
       "4"
      ]
     },
     "execution_count": 12,
     "metadata": {},
     "output_type": "execute_result"
    }
   ],
   "source": [
    "get_friend(['a','a','a','a',\n",
    "            'b','b','b','b','b','b','b','b',\n",
    "            'c','c','c','c','c','c','c','c','c','c','c','c'])"
   ]
  },
  {
   "cell_type": "code",
   "execution_count": 9,
   "metadata": {},
   "outputs": [
    {
     "data": {
      "text/plain": [
       "7"
      ]
     },
     "execution_count": 9,
     "metadata": {},
     "output_type": "execute_result"
    }
   ],
   "source": [
    "get_friend(['a','a','a','a','a','a','a','a','a','a','a','a','a','a',\n",
    "            'b','b','b','b','b','b','b','b','b','b','b','b','b','b','b','b','b','b','b','b','b',\n",
    "            'c','c','c','c','c','c','c','c','c','c','c','c','c','c','c','c','c','c','c','c','c','c','c','c','c','c','c','c'])"
   ]
  }
 ],
 "metadata": {
  "kernelspec": {
   "display_name": "Python 3",
   "language": "python",
   "name": "python3"
  },
  "language_info": {
   "codemirror_mode": {
    "name": "ipython",
    "version": 3
   },
   "file_extension": ".py",
   "mimetype": "text/x-python",
   "name": "python",
   "nbconvert_exporter": "python",
   "pygments_lexer": "ipython3",
   "version": "3.5.6 |Anaconda custom (64-bit)| (default, Aug 26 2018, 16:05:27) [MSC v.1900 64 bit (AMD64)]"
  },
  "orig_nbformat": 4,
  "vscode": {
   "interpreter": {
    "hash": "9a221ba999ef916d38ce76891694a27fdf09d1c51c73fa1563bf7310f7ea2828"
   }
  }
 },
 "nbformat": 4,
 "nbformat_minor": 2
}
